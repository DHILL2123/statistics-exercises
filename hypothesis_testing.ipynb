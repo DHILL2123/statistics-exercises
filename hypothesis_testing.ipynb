{
 "cells": [
  {
   "cell_type": "code",
   "execution_count": 39,
   "id": "833d982e",
   "metadata": {},
   "outputs": [
    {
     "data": {
      "text/plain": [
       "array([[6, 3, 5, 3, 2, 4, 3, 4, 2, 2],\n",
       "       [1, 2, 2, 1, 1, 2, 4, 6, 5, 1],\n",
       "       [1, 5, 2, 4, 3, 5, 3, 5, 1, 6],\n",
       "       [1, 2, 4, 5, 5, 5, 2, 6, 4, 3]])"
      ]
     },
     "execution_count": 39,
     "metadata": {},
     "output_type": "execute_result"
    }
   ],
   "source": [
    "import matplotlib.pyplot as plt\n",
    "import numpy as np\n",
    "np.random.seed(123)\n",
    "import pandas as pd\n",
    "from pydataset import data\n",
    "from scipy import stats\n",
    "from pydataset import data\n",
    "\n",
    "\n",
    "n_dice_per_experiment = ncols = 10\n",
    "n_experiments = nrows = 100\n",
    "\n",
    "data = np.random.randint(1, 7, (nrows, ncols))\n",
    "\n",
    "data[:4]\n",
    "\n",
    "# vectorized operations and numerical calcs\n",
    "import numpy as np\n",
    "# tabular data window dressing and syntax\n",
    "import pandas as pd\n",
    "# visualizations\n",
    "import matplotlib.pyplot as plt\n",
    "import seaborn as sns\n",
    "# data source\n",
    "from pydataset import data\n",
    "# stats calculations\n",
    "from scipy import stats\n",
    "\n",
    "import itertools\n",
    "np.random.seed(123)"
   ]
  },
  {
   "cell_type": "code",
   "execution_count": 2,
   "id": "312df2e9",
   "metadata": {},
   "outputs": [
    {
     "data": {
      "text/plain": [
       "array([3.4, 2.5, 3.5, 3.7, 3.2, 4.7, 3.4, 3.2, 3.4, 3. , 3.7, 3.5, 4. ,\n",
       "       4.5, 2.9, 2.8, 2.9, 3.8, 3.2, 3.6, 3.4, 4. , 3.5, 3.3, 3.6, 3. ,\n",
       "       4.3, 3. , 3.3, 3.2, 4.2, 3.9, 3.2, 3.8, 3.6, 3.4, 2.7, 3.4, 3.2,\n",
       "       3.1, 3.2, 3. , 4.1, 3.3, 3. , 4.1, 3.4, 3.3, 2.9, 3.8, 3.4, 3.6,\n",
       "       3.9, 3.2, 4.7, 3.8, 3.5, 2.8, 3.8, 4.7, 4.1, 3.5, 2.8, 3.7, 3.4,\n",
       "       3.7, 3.6, 4.1, 3.6, 3.5, 2.9, 4. , 3.2, 3.4, 4.4, 2.9, 3.2, 3.9,\n",
       "       1.9, 3. , 3. , 3.5, 3.3, 4.4, 3.4, 4.2, 4.1, 3.2, 3.5, 3.5, 3.8,\n",
       "       3.1, 3.6, 2.9, 2.9, 4. , 3.3, 3.1, 3.4, 3.6])"
      ]
     },
     "execution_count": 2,
     "metadata": {},
     "output_type": "execute_result"
    }
   ],
   "source": [
    "calculated_averages = data.mean(axis=1)\n",
    "calculated_averages\n"
   ]
  },
  {
   "cell_type": "code",
   "execution_count": 3,
   "id": "f55368ac",
   "metadata": {},
   "outputs": [
    {
     "data": {
      "text/plain": [
       "Text(0.5, 1.0, 'Outcome of averaging 10 dice rolls 100 times')"
      ]
     },
     "execution_count": 3,
     "metadata": {},
     "output_type": "execute_result"
    },
    {
     "data": {
      "image/png": "[encoded data removed]",
      "text/plain": [
       "<Figure size 640x480 with 1 Axes>"
      ]
     },
     "metadata": {},
     "output_type": "display_data"
    }
   ],
   "source": [
    "plt.hist(calculated_averages)\n",
    "plt.xlabel(f'Average of {n_dice_per_experiment} dice rolls')\n",
    "plt.ylabel('# of Occurances')\n",
    "plt.title(f'Outcome of averaging {n_dice_per_experiment} dice rolls {n_experiments} times')\n"
   ]
  },
  {
   "cell_type": "code",
   "execution_count": null,
   "id": "80a2d13c",
   "metadata": {},
   "outputs": [],
   "source": [
    "\n"
   ]
  },
  {
   "cell_type": "markdown",
   "id": "3fd7db63",
   "metadata": {},
   "source": [
    "Exercises"
   ]
  },
  {
   "cell_type": "markdown",
   "id": "b82f1b6a",
   "metadata": {},
   "source": [
    "1.Answer with the type of test you would use (assume normal distribution):\n",
    "Is there a difference in grades of students on the second floor compared to grades of all students?\n",
    "#two-tailed, one sample t-test\n",
    "\n",
    "Are adults who drink milk taller than adults who dont drink milk?\n",
    "#one tailed, independent t-test\n",
    "\n",
    "Is the the price of gas higher in texas or in new mexico?\n",
    "#one-tailed, two sample\n",
    "\n",
    "Are there differences in stress levels between students who take data science vs students who take web development vs students who take cloud academy?\n",
    "#anova test\n",
    "\n",
    "2.Ace Realty wants to determine whether the average time it takes to sell homes is different for its two offices. A sample of 40 sales from office #1 revealed a mean of 90 days and a standard deviation of 15 days. A sample of 50 sales from office #2 revealed a mean of 100 days and a standard deviation of 20 days. Use a .05 level of significance.\n",
    "\n",
    "\n",
    "3.Load the mpg dataset and use it to answer the following questions:\n",
    "\n",
    "Is there a difference in fuel-efficiency in cars from 2008 vs 1999?\n",
    "\n",
    "Are compact cars more fuel-efficient than the average car?\n",
    "\n",
    "Do manual cars get better gas mileage than automatic cars?"
   ]
  },
  {
   "cell_type": "markdown",
   "id": "c6b4a81f",
   "metadata": {},
   "source": [
    "2.Ace Realty wants to determine whether the average time it takes to sell homes is different for its two offices. A sample of 40 sales from office #1 revealed a mean of 90 days and a standard deviation of 15 days. A sample of 50 sales from office #2 revealed a mean of 100 days and a standard deviation of 20 days. Use a .05 level of significance."
   ]
  },
  {
   "cell_type": "code",
   "execution_count": 8,
   "id": "03ac73cc",
   "metadata": {},
   "outputs": [],
   "source": [
    "#O1 sale time 90, stdev 15\n",
    "#O2 sale time 100, stdev 20\n",
    "# 0.05\n",
    "office_one = stats.norm(90,15).rvs(40)"
   ]
  },
  {
   "cell_type": "code",
   "execution_count": 9,
   "id": "b2576568",
   "metadata": {},
   "outputs": [
    {
     "data": {
      "text/plain": [
       "array([ 69.10137631,  54.71575534, 114.56161779,  85.12144956,\n",
       "        78.96422694,  93.32998693,  92.83116539, 115.29582551,\n",
       "       110.70594277, 120.03344225,  85.72156419,  96.77367228,\n",
       "       107.58718708,  71.67160589,  84.03427473,  94.80320297,\n",
       "       111.99783357,  73.71389517, 112.00449782, 107.27764445,\n",
       "        96.40296891, 101.37067778, 117.26199972,  55.73210514,\n",
       "        67.24064105,  95.4809309 , 108.44285772,  92.769014  ,\n",
       "        79.7520221 ,  96.24679795,  69.17281003,  79.00761304,\n",
       "       106.1494357 ,  81.21173161,  64.37771489,  85.55717996,\n",
       "       114.28876531,  93.76766395,  86.6688418 ,  97.84453781])"
      ]
     },
     "execution_count": 9,
     "metadata": {},
     "output_type": "execute_result"
    }
   ],
   "source": [
    "office_one"
   ]
  },
  {
   "cell_type": "code",
   "execution_count": 10,
   "id": "8e8987f1",
   "metadata": {},
   "outputs": [],
   "source": [
    "office_two = stats.norm(100,20).rvs(50)"
   ]
  },
  {
   "cell_type": "code",
   "execution_count": 11,
   "id": "edee02e1",
   "metadata": {},
   "outputs": [
    {
     "data": {
      "text/plain": [
       "array([ 58.50207016, 123.42661649,  60.56477461,  86.22161199,\n",
       "       121.47613969, 128.87456563,  91.70748389, 109.1078093 ,\n",
       "       103.72147152,  57.86749573,  90.97982279,  86.00369884,\n",
       "       122.60351672,  88.80347955, 111.36522326,  72.72919943,\n",
       "        84.67823746, 103.12289113,  74.62655101, 130.1935579 ,\n",
       "       129.28014156, 101.98966411, 100.68101978,  88.88985537,\n",
       "        98.90863476,  91.08753   ,  93.34355736, 106.22642931,\n",
       "       101.39713993, 109.57247235,  81.39513642,  89.95539989,\n",
       "       101.5789079 ,  97.87820824,  96.9852785 ,  93.08647977,\n",
       "       130.90392678, 107.72001506, 112.91976559,  78.84693829,\n",
       "        65.67342172, 122.4768576 , 112.17640479,  98.58126151,\n",
       "       114.54992384, 147.28774401, 109.32352528, 116.47905659,\n",
       "        49.44196825, 130.92192718])"
      ]
     },
     "execution_count": 11,
     "metadata": {},
     "output_type": "execute_result"
    }
   ],
   "source": [
    "office_two"
   ]
  },
  {
   "cell_type": "code",
   "execution_count": 13,
   "id": "0b382cb5",
   "metadata": {},
   "outputs": [
    {
     "data": {
      "image/png": "[encoded data removed]",
      "text/plain": [
       "<Figure size 640x480 with 1 Axes>"
      ]
     },
     "metadata": {},
     "output_type": "display_data"
    }
   ],
   "source": [
    "x = np.arange(60, 165)\n",
    "y = stats.norm(90, 15).pdf(x)\n",
    "y2 = stats.norm(100,20).pdf(x)\n",
    "plt.plot(x,y)\n",
    "plt.plot(x,y2)\n",
    "plt.title('Office Differences by Probability of Sale Time')\n",
    "plt.show()"
   ]
  },
  {
   "cell_type": "code",
   "execution_count": null,
   "id": "73184413",
   "metadata": {},
   "outputs": [],
   "source": [
    "#two tailed test checking for any difference in the means\n",
    "#two sample test, two independent groups"
   ]
  },
  {
   "cell_type": "code",
   "execution_count": 22,
   "id": "16b14ab7",
   "metadata": {},
   "outputs": [],
   "source": [
    "office_one_mean = 90\n",
    "office_one_stdv = 15\n",
    "office_two_mean = 100\n",
    "office_two_stdv = 20"
   ]
  },
  {
   "cell_type": "code",
   "execution_count": null,
   "id": "819cedd7",
   "metadata": {},
   "outputs": [],
   "source": [
    "#bonus: we can check for equal variance,\n",
    "#because we are populating values with rvs via the normal distribution\n",
    "#object from scipy"
   ]
  },
  {
   "cell_type": "code",
   "execution_count": 15,
   "id": "20356ef9",
   "metadata": {},
   "outputs": [],
   "source": [
    "#levene test:\n",
    "#H0: there is equal variance between the two offices\n",
    "#Ha: there is inequal variance between the two offices\n",
    "stat, p_levene = stats.levene(office_one, office_two)"
   ]
  },
  {
   "cell_type": "code",
   "execution_count": 19,
   "id": "83e5f22b",
   "metadata": {},
   "outputs": [],
   "source": [
    "α = 0.05"
   ]
  },
  {
   "cell_type": "code",
   "execution_count": 20,
   "id": "868175e4",
   "metadata": {},
   "outputs": [
    {
     "data": {
      "text/plain": [
       "False"
      ]
     },
     "execution_count": 20,
     "metadata": {},
     "output_type": "execute_result"
    }
   ],
   "source": [
    "p_levene < α"
   ]
  },
  {
   "cell_type": "code",
   "execution_count": null,
   "id": "110a0654",
   "metadata": {},
   "outputs": [],
   "source": [
    "#we fail to reject the null hypothesis\n",
    "#presume equal variance"
   ]
  },
  {
   "cell_type": "code",
   "execution_count": 23,
   "id": "de863dde",
   "metadata": {},
   "outputs": [],
   "source": [
    "t_stat, p_val = stats.ttest_ind_from_stats(\n",
    "mean1 = office_one_mean,\n",
    "std1 = office_one_stdv,\n",
    "nobs1 = 40,\n",
    "mean2 = office_two_mean,\n",
    "std2 = office_two_stdv,\n",
    "nobs2 = 50,\n",
    "equal_var=True)"
   ]
  },
  {
   "cell_type": "code",
   "execution_count": 24,
   "id": "9335cbe5",
   "metadata": {},
   "outputs": [
    {
     "name": "stdout",
     "output_type": "stream",
     "text": [
      "We cant reject the null hypthesis, and suggest that there is a difference in mean sale time betweeen the offices\n"
     ]
    }
   ],
   "source": [
    "# two tailed test: I do not need to divide p by 2\n",
    "if p_val < α:\n",
    "    print('We cant reject the null hypthesis, and suggest that there is a difference in mean sale time betweeen the offices')\n",
    "else:\n",
    "    print('We failed to reject the null hypothesis')\n",
    "        "
   ]
  },
  {
   "cell_type": "code",
   "execution_count": 41,
   "id": "18ab6e9c",
   "metadata": {},
   "outputs": [],
   "source": [
    "from pydataset import data\n",
    "mpg = data('mpg')"
   ]
  },
  {
   "cell_type": "code",
   "execution_count": 42,
   "id": "b3124866",
   "metadata": {},
   "outputs": [],
   "source": [
    "mpg['fe'] = stats.hmean((mpg['hwy'], mpg['cty']))"
   ]
  },
  {
   "cell_type": "code",
   "execution_count": 43,
   "id": "60d61cbd",
   "metadata": {},
   "outputs": [
    {
     "data": {
      "text/html": [
       "<div>\n",
       "<style scoped>\n",
       "    .dataframe tbody tr th:only-of-type {\n",
       "        vertical-align: middle;\n",
       "    }\n",
       "\n",
       "    .dataframe tbody tr th {\n",
       "        vertical-align: top;\n",
       "    }\n",
       "\n",
       "    .dataframe thead th {\n",
       "        text-align: right;\n",
       "    }\n",
       "</style>\n",
       "<table border=\"1\" class=\"dataframe\">\n",
       "  <thead>\n",
       "    <tr style=\"text-align: right;\">\n",
       "      <th></th>\n",
       "      <th>manufacturer</th>\n",
       "      <th>model</th>\n",
       "      <th>displ</th>\n",
       "      <th>year</th>\n",
       "      <th>cyl</th>\n",
       "      <th>trans</th>\n",
       "      <th>drv</th>\n",
       "      <th>cty</th>\n",
       "      <th>hwy</th>\n",
       "      <th>fl</th>\n",
       "      <th>class</th>\n",
       "      <th>fe</th>\n",
       "    </tr>\n",
       "  </thead>\n",
       "  <tbody>\n",
       "    <tr>\n",
       "      <th>1</th>\n",
       "      <td>audi</td>\n",
       "      <td>a4</td>\n",
       "      <td>1.8</td>\n",
       "      <td>1999</td>\n",
       "      <td>4</td>\n",
       "      <td>auto(l5)</td>\n",
       "      <td>f</td>\n",
       "      <td>18</td>\n",
       "      <td>29</td>\n",
       "      <td>p</td>\n",
       "      <td>compact</td>\n",
       "      <td>22.212766</td>\n",
       "    </tr>\n",
       "    <tr>\n",
       "      <th>2</th>\n",
       "      <td>audi</td>\n",
       "      <td>a4</td>\n",
       "      <td>1.8</td>\n",
       "      <td>1999</td>\n",
       "      <td>4</td>\n",
       "      <td>manual(m5)</td>\n",
       "      <td>f</td>\n",
       "      <td>21</td>\n",
       "      <td>29</td>\n",
       "      <td>p</td>\n",
       "      <td>compact</td>\n",
       "      <td>24.360000</td>\n",
       "    </tr>\n",
       "    <tr>\n",
       "      <th>3</th>\n",
       "      <td>audi</td>\n",
       "      <td>a4</td>\n",
       "      <td>2.0</td>\n",
       "      <td>2008</td>\n",
       "      <td>4</td>\n",
       "      <td>manual(m6)</td>\n",
       "      <td>f</td>\n",
       "      <td>20</td>\n",
       "      <td>31</td>\n",
       "      <td>p</td>\n",
       "      <td>compact</td>\n",
       "      <td>24.313725</td>\n",
       "    </tr>\n",
       "    <tr>\n",
       "      <th>4</th>\n",
       "      <td>audi</td>\n",
       "      <td>a4</td>\n",
       "      <td>2.0</td>\n",
       "      <td>2008</td>\n",
       "      <td>4</td>\n",
       "      <td>auto(av)</td>\n",
       "      <td>f</td>\n",
       "      <td>21</td>\n",
       "      <td>30</td>\n",
       "      <td>p</td>\n",
       "      <td>compact</td>\n",
       "      <td>24.705882</td>\n",
       "    </tr>\n",
       "    <tr>\n",
       "      <th>5</th>\n",
       "      <td>audi</td>\n",
       "      <td>a4</td>\n",
       "      <td>2.8</td>\n",
       "      <td>1999</td>\n",
       "      <td>6</td>\n",
       "      <td>auto(l5)</td>\n",
       "      <td>f</td>\n",
       "      <td>16</td>\n",
       "      <td>26</td>\n",
       "      <td>p</td>\n",
       "      <td>compact</td>\n",
       "      <td>19.809524</td>\n",
       "    </tr>\n",
       "    <tr>\n",
       "      <th>...</th>\n",
       "      <td>...</td>\n",
       "      <td>...</td>\n",
       "      <td>...</td>\n",
       "      <td>...</td>\n",
       "      <td>...</td>\n",
       "      <td>...</td>\n",
       "      <td>...</td>\n",
       "      <td>...</td>\n",
       "      <td>...</td>\n",
       "      <td>...</td>\n",
       "      <td>...</td>\n",
       "      <td>...</td>\n",
       "    </tr>\n",
       "    <tr>\n",
       "      <th>230</th>\n",
       "      <td>volkswagen</td>\n",
       "      <td>passat</td>\n",
       "      <td>2.0</td>\n",
       "      <td>2008</td>\n",
       "      <td>4</td>\n",
       "      <td>auto(s6)</td>\n",
       "      <td>f</td>\n",
       "      <td>19</td>\n",
       "      <td>28</td>\n",
       "      <td>p</td>\n",
       "      <td>midsize</td>\n",
       "      <td>22.638298</td>\n",
       "    </tr>\n",
       "    <tr>\n",
       "      <th>231</th>\n",
       "      <td>volkswagen</td>\n",
       "      <td>passat</td>\n",
       "      <td>2.0</td>\n",
       "      <td>2008</td>\n",
       "      <td>4</td>\n",
       "      <td>manual(m6)</td>\n",
       "      <td>f</td>\n",
       "      <td>21</td>\n",
       "      <td>29</td>\n",
       "      <td>p</td>\n",
       "      <td>midsize</td>\n",
       "      <td>24.360000</td>\n",
       "    </tr>\n",
       "    <tr>\n",
       "      <th>232</th>\n",
       "      <td>volkswagen</td>\n",
       "      <td>passat</td>\n",
       "      <td>2.8</td>\n",
       "      <td>1999</td>\n",
       "      <td>6</td>\n",
       "      <td>auto(l5)</td>\n",
       "      <td>f</td>\n",
       "      <td>16</td>\n",
       "      <td>26</td>\n",
       "      <td>p</td>\n",
       "      <td>midsize</td>\n",
       "      <td>19.809524</td>\n",
       "    </tr>\n",
       "    <tr>\n",
       "      <th>233</th>\n",
       "      <td>volkswagen</td>\n",
       "      <td>passat</td>\n",
       "      <td>2.8</td>\n",
       "      <td>1999</td>\n",
       "      <td>6</td>\n",
       "      <td>manual(m5)</td>\n",
       "      <td>f</td>\n",
       "      <td>18</td>\n",
       "      <td>26</td>\n",
       "      <td>p</td>\n",
       "      <td>midsize</td>\n",
       "      <td>21.272727</td>\n",
       "    </tr>\n",
       "    <tr>\n",
       "      <th>234</th>\n",
       "      <td>volkswagen</td>\n",
       "      <td>passat</td>\n",
       "      <td>3.6</td>\n",
       "      <td>2008</td>\n",
       "      <td>6</td>\n",
       "      <td>auto(s6)</td>\n",
       "      <td>f</td>\n",
       "      <td>17</td>\n",
       "      <td>26</td>\n",
       "      <td>p</td>\n",
       "      <td>midsize</td>\n",
       "      <td>20.558140</td>\n",
       "    </tr>\n",
       "  </tbody>\n",
       "</table>\n",
       "<p>234 rows × 12 columns</p>\n",
       "</div>"
      ],
      "text/plain": [
       "    manufacturer   model  displ  year  cyl       trans drv  cty  hwy fl  \\\n",
       "1           audi      a4    1.8  1999    4    auto(l5)   f   18   29  p   \n",
       "2           audi      a4    1.8  1999    4  manual(m5)   f   21   29  p   \n",
       "3           audi      a4    2.0  2008    4  manual(m6)   f   20   31  p   \n",
       "4           audi      a4    2.0  2008    4    auto(av)   f   21   30  p   \n",
       "5           audi      a4    2.8  1999    6    auto(l5)   f   16   26  p   \n",
       "..           ...     ...    ...   ...  ...         ...  ..  ...  ... ..   \n",
       "230   volkswagen  passat    2.0  2008    4    auto(s6)   f   19   28  p   \n",
       "231   volkswagen  passat    2.0  2008    4  manual(m6)   f   21   29  p   \n",
       "232   volkswagen  passat    2.8  1999    6    auto(l5)   f   16   26  p   \n",
       "233   volkswagen  passat    2.8  1999    6  manual(m5)   f   18   26  p   \n",
       "234   volkswagen  passat    3.6  2008    6    auto(s6)   f   17   26  p   \n",
       "\n",
       "       class         fe  \n",
       "1    compact  22.212766  \n",
       "2    compact  24.360000  \n",
       "3    compact  24.313725  \n",
       "4    compact  24.705882  \n",
       "5    compact  19.809524  \n",
       "..       ...        ...  \n",
       "230  midsize  22.638298  \n",
       "231  midsize  24.360000  \n",
       "232  midsize  19.809524  \n",
       "233  midsize  21.272727  \n",
       "234  midsize  20.558140  \n",
       "\n",
       "[234 rows x 12 columns]"
      ]
     },
     "execution_count": 43,
     "metadata": {},
     "output_type": "execute_result"
    }
   ],
   "source": [
    "mpg"
   ]
  },
  {
   "cell_type": "markdown",
   "id": "a80de857",
   "metadata": {},
   "source": [
    "Is there a difference in fuel-efficiency in cars from 2008 vs 1999?\n",
    "\n",
    "Are compact cars more fuel-efficient than the average car?\n",
    "\n",
    "Do manual cars get better gas mileage than automatic cars?"
   ]
  },
  {
   "cell_type": "markdown",
   "id": "a95b315e",
   "metadata": {},
   "source": [
    "Is there a difference in fuel-efficiency in cars from 2008 vs 1999?"
   ]
  },
  {
   "cell_type": "code",
   "execution_count": 44,
   "id": "45437a32",
   "metadata": {},
   "outputs": [],
   "source": [
    "# parameters:\n",
    "fe_1999 = mpg[mpg.year == 1999].fe\n",
    "fe_2008 = mpg[mpg.year == 2008].fe"
   ]
  },
  {
   "cell_type": "code",
   "execution_count": 45,
   "id": "31eebdc1",
   "metadata": {},
   "outputs": [
    {
     "data": {
      "text/plain": [
       "(array([23., 24., 17., 31., 12.,  5.,  2.,  0.,  1.,  2.]),\n",
       " array([12.69230769, 15.3218111 , 17.95131451, 20.58081792, 23.21032132,\n",
       "        25.83982473, 28.46932814, 31.09883155, 33.72833496, 36.35783836,\n",
       "        38.98734177]),\n",
       " <BarContainer object of 10 artists>)"
      ]
     },
     "execution_count": 45,
     "metadata": {},
     "output_type": "execute_result"
    },
    {
     "data": {
      "image/png": "[encoded data removed]",
      "text/plain": [
       "<Figure size 640x480 with 1 Axes>"
      ]
     },
     "metadata": {},
     "output_type": "display_data"
    }
   ],
   "source": [
    "plt.hist(fe_1999)"
   ]
  },
  {
   "cell_type": "code",
   "execution_count": 46,
   "id": "6a24850c",
   "metadata": {},
   "outputs": [
    {
     "data": {
      "image/png": "[encoded data removed]",
      "text/plain": [
       "<Figure size 640x480 with 1 Axes>"
      ]
     },
     "metadata": {},
     "output_type": "display_data"
    }
   ],
   "source": [
    "plt.hist(fe_2008)\n",
    "plt.show()"
   ]
  },
  {
   "cell_type": "code",
   "execution_count": 47,
   "id": "57ade976",
   "metadata": {},
   "outputs": [],
   "source": [
    "# normality asserted vaguely by the CLT\n",
    "# variance?\n",
    "# lets check\n",
    "stat, p_val = stats.levene(fe_1999, fe_2008)"
   ]
  },
  {
   "cell_type": "code",
   "execution_count": null,
   "id": "e016a8bd",
   "metadata": {},
   "outputs": [],
   "source": [
    "# p value is * not * less than the null hypothesis\n",
    "# I fail to reject the null hypothesis\n",
    "# so we presume equal variance"
   ]
  },
  {
   "cell_type": "code",
   "execution_count": 48,
   "id": "4fe104f0",
   "metadata": {},
   "outputs": [
    {
     "data": {
      "text/plain": [
       "False"
      ]
     },
     "execution_count": 48,
     "metadata": {},
     "output_type": "execute_result"
    }
   ],
   "source": [
    "p_val < α"
   ]
  },
  {
   "cell_type": "code",
   "execution_count": null,
   "id": "354c4aba",
   "metadata": {},
   "outputs": [],
   "source": [
    "# 1999 and 2008 are exclusive categories. independent"
   ]
  },
  {
   "cell_type": "code",
   "execution_count": 49,
   "id": "84b10f4d",
   "metadata": {},
   "outputs": [],
   "source": [
    "t_stat, p_val = stats.ttest_ind(fe_1999, fe_2008)"
   ]
  },
  {
   "cell_type": "code",
   "execution_count": 50,
   "id": "ea3d6703",
   "metadata": {},
   "outputs": [
    {
     "data": {
      "text/plain": [
       "False"
      ]
     },
     "execution_count": 50,
     "metadata": {},
     "output_type": "execute_result"
    }
   ],
   "source": [
    "p_val < α"
   ]
  },
  {
   "cell_type": "code",
   "execution_count": 51,
   "id": "bf4ed46c",
   "metadata": {},
   "outputs": [],
   "source": [
    "# we fail to reject the null hypothesis, which means\n",
    "# that we cannot with certainty say that there is a\n",
    "# difference in the means of the two groups"
   ]
  },
  {
   "cell_type": "markdown",
   "id": "ca82e6b8",
   "metadata": {},
   "source": [
    "Are compact cars more fuel-efficient than the average car?"
   ]
  },
  {
   "cell_type": "code",
   "execution_count": null,
   "id": "cabb77cf",
   "metadata": {},
   "outputs": [],
   "source": [
    "# two things:\n",
    "# compacts (sub group) versus all cars (population)\n",
    "# one-sample ttest\n",
    "# compacts fe > all cars fe \n",
    "# one-tailed ttest"
   ]
  },
  {
   "cell_type": "code",
   "execution_count": 52,
   "id": "9c306e88",
   "metadata": {},
   "outputs": [],
   "source": [
    "μth = mpg.fe.mean()"
   ]
  },
  {
   "cell_type": "code",
   "execution_count": 53,
   "id": "99d9471f",
   "metadata": {},
   "outputs": [],
   "source": [
    "t_stat, p_val = stats.ttest_1samp(\n",
    "    mpg[mpg['class'] == 'compact'].fe,\n",
    "    μth)"
   ]
  },
  {
   "cell_type": "code",
   "execution_count": 54,
   "id": "aefd6210",
   "metadata": {},
   "outputs": [
    {
     "name": "stdout",
     "output_type": "stream",
     "text": [
      "We can reject the null hypothesis!\n",
      "There is evidence that the altnerative that we posited is valid!\n"
     ]
    }
   ],
   "source": [
    "if ((p_val / 2 ) < α) and (t_stat > 0):\n",
    "    print('We can reject the null hypothesis!')\n",
    "    print('There is evidence that the altnerative that we posited is valid!')\n",
    "else:\n",
    "    print('we fail to reject the null hypothesis')"
   ]
  },
  {
   "cell_type": "markdown",
   "id": "d85b501a",
   "metadata": {},
   "source": [
    "Do manual cars get better gas mileage than automatic cars?"
   ]
  },
  {
   "cell_type": "code",
   "execution_count": 55,
   "id": "e914891f",
   "metadata": {},
   "outputs": [],
   "source": [
    "# group a: manual cars\n",
    "# group b: automatic cars\n",
    "# independent sub-groups:\n",
    "# ttest_ind"
   ]
  },
  {
   "cell_type": "code",
   "execution_count": 56,
   "id": "713a5a13",
   "metadata": {},
   "outputs": [],
   "source": [
    "manual_fe = mpg[mpg.trans.str.startswith('man')].fe\n",
    "auto_fe = mpg[mpg.trans.str.startswith('auto')].fe"
   ]
  },
  {
   "cell_type": "code",
   "execution_count": 57,
   "id": "85f91d5b",
   "metadata": {},
   "outputs": [
    {
     "data": {
      "text/plain": [
       "LeveneResult(statistic=0.013901207169738269, pvalue=0.9062462281015493)"
      ]
     },
     "execution_count": 57,
     "metadata": {},
     "output_type": "execute_result"
    }
   ],
   "source": [
    "# quick levene test:\n",
    "# h0: equal variance\n",
    "# ha: inequal variance\n",
    "stats.levene(manual_fe, auto_fe)"
   ]
  },
  {
   "cell_type": "code",
   "execution_count": 58,
   "id": "7aa89d75",
   "metadata": {},
   "outputs": [],
   "source": [
    "# fail to reject h0: presume equal variance"
   ]
  },
  {
   "cell_type": "code",
   "execution_count": 59,
   "id": "f918109e",
   "metadata": {},
   "outputs": [],
   "source": [
    "t_stat, p_val = stats.ttest_ind(manual_fe, auto_fe)"
   ]
  },
  {
   "cell_type": "code",
   "execution_count": 60,
   "id": "57bb8359",
   "metadata": {},
   "outputs": [
    {
     "data": {
      "text/plain": [
       "5.510464610044009e-06"
      ]
     },
     "execution_count": 60,
     "metadata": {},
     "output_type": "execute_result"
    }
   ],
   "source": [
    "p_val"
   ]
  },
  {
   "cell_type": "code",
   "execution_count": null,
   "id": "aba0d0db",
   "metadata": {},
   "outputs": [],
   "source": [
    "# p is less than our alpha (0.05)"
   ]
  },
  {
   "cell_type": "code",
   "execution_count": null,
   "id": "99baca84",
   "metadata": {},
   "outputs": [],
   "source": [
    "# t_stat?"
   ]
  },
  {
   "cell_type": "code",
   "execution_count": 61,
   "id": "12c33df8",
   "metadata": {},
   "outputs": [
    {
     "data": {
      "text/plain": [
       "4.652577547151351"
      ]
     },
     "execution_count": 61,
     "metadata": {},
     "output_type": "execute_result"
    }
   ],
   "source": [
    "t_stat"
   ]
  },
  {
   "cell_type": "code",
   "execution_count": null,
   "id": "7f5f13bc",
   "metadata": {},
   "outputs": [],
   "source": [
    "# t_stat > 0: "
   ]
  },
  {
   "cell_type": "code",
   "execution_count": 62,
   "id": "ab3a7894",
   "metadata": {},
   "outputs": [],
   "source": [
    "# we met both conditions, so we can reject h0\n",
    "# and say that there is a difference"
   ]
  },
  {
   "cell_type": "code",
   "execution_count": null,
   "id": "3fc0cba1",
   "metadata": {},
   "outputs": [],
   "source": []
  },
  {
   "cell_type": "markdown",
   "id": "0a9ee4f6",
   "metadata": {},
   "source": [
    "####Excercises###"
   ]
  },
  {
   "cell_type": "markdown",
   "id": "74598eb7",
   "metadata": {},
   "source": [
    "Answer with the type of stats test you would use (assume normal distribution):\n",
    "Is there a relationship between the length of your arm and the length of your foot?\n",
    "#length of arm: continuous length of foot: continuous continuous v continuous: pearson's r for correlation\n",
    "\n",
    "Do guys and gals quit their jobs at the same rate?\n",
    "#quit/attrition : did the employee leave or not? ==> category gender ==> categorical cat vs cat ==> chi^2\n",
    "\n",
    "Does the length of time of the lecture correlate with a students grade?\n",
    "#pearson's r\n",
    "\n",
    "Do students get better test grades if they have a rubber duck on their desk?\n",
    "#t_test\n",
    "\n",
    "Does smoking affect when or not someone has lung cancer?\n",
    "#chi^2\n",
    "\n",
    "Is gender independent of a person’s blood type?\n",
    "#chi^2\n",
    "\n",
    "A farming company wants to know if a new fertilizer has improved crop yield or not\n",
    "#t_test\n",
    "\n",
    "Do people with dogs live in apartments more than people with cats?\n",
    "#chi^2\n",
    "\n",
    "Use the telco_churn data.\n",
    "Does tenure correlate with monthly charges?\n",
    "Total charges?\n",
    "What happens if you control for phone and internet service?\n",
    "\n",
    "Use the employees database.\n",
    "Is there a relationship between how long an employee has been with the company and their salary?\n",
    "Is there a relationship between how long an employee has been with the company and the number of titles they have had?\n",
    "\n",
    "Use the sleepstudy data.\n",
    "Is there a relationship between days and reaction time?\n",
    "\n"
   ]
  },
  {
   "cell_type": "code",
   "execution_count": 63,
   "id": "4e485855",
   "metadata": {},
   "outputs": [],
   "source": [
    "import numpy as np\n",
    "import pandas as pd\n",
    "from scipy import stats\n",
    "import matplotlib.pyplot as plt\n",
    "import seaborn as sns\n",
    "import env"
   ]
  },
  {
   "cell_type": "code",
   "execution_count": 64,
   "id": "e186c601",
   "metadata": {},
   "outputs": [],
   "source": [
    "telco = pd.read_csv('/Users/deadrienhill/Downloads/telco_churn - telco_churn.csv')"
   ]
  },
  {
   "cell_type": "code",
   "execution_count": 65,
   "id": "3adeb27c",
   "metadata": {},
   "outputs": [
    {
     "data": {
      "text/html": [
       "<div>\n",
       "<style scoped>\n",
       "    .dataframe tbody tr th:only-of-type {\n",
       "        vertical-align: middle;\n",
       "    }\n",
       "\n",
       "    .dataframe tbody tr th {\n",
       "        vertical-align: top;\n",
       "    }\n",
       "\n",
       "    .dataframe thead th {\n",
       "        text-align: right;\n",
       "    }\n",
       "</style>\n",
       "<table border=\"1\" class=\"dataframe\">\n",
       "  <thead>\n",
       "    <tr style=\"text-align: right;\">\n",
       "      <th></th>\n",
       "      <th>customerID</th>\n",
       "      <th>gender</th>\n",
       "      <th>SeniorCitizen</th>\n",
       "      <th>Partner</th>\n",
       "      <th>Dependents</th>\n",
       "      <th>tenure</th>\n",
       "      <th>PhoneService</th>\n",
       "      <th>MultipleLines</th>\n",
       "      <th>InternetService</th>\n",
       "      <th>OnlineSecurity</th>\n",
       "      <th>...</th>\n",
       "      <th>DeviceProtection</th>\n",
       "      <th>TechSupport</th>\n",
       "      <th>StreamingTV</th>\n",
       "      <th>StreamingMovies</th>\n",
       "      <th>Contract</th>\n",
       "      <th>PaperlessBilling</th>\n",
       "      <th>PaymentMethod</th>\n",
       "      <th>MonthlyCharges</th>\n",
       "      <th>TotalCharges</th>\n",
       "      <th>Churn</th>\n",
       "    </tr>\n",
       "  </thead>\n",
       "  <tbody>\n",
       "    <tr>\n",
       "      <th>0</th>\n",
       "      <td>7590-VHVEG</td>\n",
       "      <td>Female</td>\n",
       "      <td>0</td>\n",
       "      <td>Yes</td>\n",
       "      <td>No</td>\n",
       "      <td>1</td>\n",
       "      <td>No</td>\n",
       "      <td>No phone service</td>\n",
       "      <td>DSL</td>\n",
       "      <td>No</td>\n",
       "      <td>...</td>\n",
       "      <td>No</td>\n",
       "      <td>No</td>\n",
       "      <td>No</td>\n",
       "      <td>No</td>\n",
       "      <td>Month-to-month</td>\n",
       "      <td>Yes</td>\n",
       "      <td>Electronic check</td>\n",
       "      <td>29.85</td>\n",
       "      <td>29.85</td>\n",
       "      <td>No</td>\n",
       "    </tr>\n",
       "  </tbody>\n",
       "</table>\n",
       "<p>1 rows × 21 columns</p>\n",
       "</div>"
      ],
      "text/plain": [
       "   customerID  gender  SeniorCitizen Partner Dependents  tenure PhoneService  \\\n",
       "0  7590-VHVEG  Female              0     Yes         No       1           No   \n",
       "\n",
       "      MultipleLines InternetService OnlineSecurity  ... DeviceProtection  \\\n",
       "0  No phone service             DSL             No  ...               No   \n",
       "\n",
       "  TechSupport StreamingTV StreamingMovies        Contract PaperlessBilling  \\\n",
       "0          No          No              No  Month-to-month              Yes   \n",
       "\n",
       "      PaymentMethod MonthlyCharges  TotalCharges  Churn  \n",
       "0  Electronic check          29.85         29.85     No  \n",
       "\n",
       "[1 rows x 21 columns]"
      ]
     },
     "execution_count": 65,
     "metadata": {},
     "output_type": "execute_result"
    }
   ],
   "source": [
    "telco.head(1)"
   ]
  },
  {
   "cell_type": "markdown",
   "id": "5af54827",
   "metadata": {},
   "source": [
    "H0:There is no linear realationship between tenure and monthly charges\n",
    "Ha:There is a linear relationship between tenure and monthly charges"
   ]
  },
  {
   "cell_type": "code",
   "execution_count": 66,
   "id": "8d1e8b8f",
   "metadata": {},
   "outputs": [],
   "source": [
    "# Set an alpha for a 95% confidence level\n",
    "α = 0.05"
   ]
  },
  {
   "cell_type": "code",
   "execution_count": 67,
   "id": "c77f3947",
   "metadata": {},
   "outputs": [],
   "source": [
    "r, p = stats.pearsonr(telco.tenure, telco.MonthlyCharges)"
   ]
  },
  {
   "cell_type": "code",
   "execution_count": 68,
   "id": "f4e9d2b5",
   "metadata": {},
   "outputs": [
    {
     "name": "stdout",
     "output_type": "stream",
     "text": [
      "We can reject the null hypothesis!\n"
     ]
    }
   ],
   "source": [
    "if p < α:\n",
    "    print('We can reject the null hypothesis!')"
   ]
  },
  {
   "cell_type": "code",
   "execution_count": 69,
   "id": "6c20b8a3",
   "metadata": {},
   "outputs": [
    {
     "data": {
      "text/plain": [
       "4.094044991483017e-99"
      ]
     },
     "execution_count": 69,
     "metadata": {},
     "output_type": "execute_result"
    }
   ],
   "source": [
    "p"
   ]
  },
  {
   "cell_type": "code",
   "execution_count": 70,
   "id": "265c51de",
   "metadata": {},
   "outputs": [
    {
     "data": {
      "text/plain": [
       "0.2478998562861525"
      ]
     },
     "execution_count": 70,
     "metadata": {},
     "output_type": "execute_result"
    }
   ],
   "source": [
    "r"
   ]
  },
  {
   "cell_type": "code",
   "execution_count": 78,
   "id": "d8567455",
   "metadata": {},
   "outputs": [
    {
     "name": "stdout",
     "output_type": "stream",
     "text": [
      "<class 'pandas.core.frame.DataFrame'>\n",
      "RangeIndex: 7043 entries, 0 to 7042\n",
      "Data columns (total 21 columns):\n",
      " #   Column            Non-Null Count  Dtype  \n",
      "---  ------            --------------  -----  \n",
      " 0   customerID        7043 non-null   object \n",
      " 1   gender            7043 non-null   object \n",
      " 2   SeniorCitizen     7043 non-null   int64  \n",
      " 3   Partner           7043 non-null   object \n",
      " 4   Dependents        7043 non-null   object \n",
      " 5   tenure            7043 non-null   int64  \n",
      " 6   PhoneService      7043 non-null   object \n",
      " 7   MultipleLines     7043 non-null   object \n",
      " 8   InternetService   7043 non-null   object \n",
      " 9   OnlineSecurity    7043 non-null   object \n",
      " 10  OnlineBackup      7043 non-null   object \n",
      " 11  DeviceProtection  7043 non-null   object \n",
      " 12  TechSupport       7043 non-null   object \n",
      " 13  StreamingTV       7043 non-null   object \n",
      " 14  StreamingMovies   7043 non-null   object \n",
      " 15  Contract          7043 non-null   object \n",
      " 16  PaperlessBilling  7043 non-null   object \n",
      " 17  PaymentMethod     7043 non-null   object \n",
      " 18  MonthlyCharges    7043 non-null   float64\n",
      " 19  TotalCharges      7032 non-null   float64\n",
      " 20  Churn             7043 non-null   object \n",
      "dtypes: float64(2), int64(2), object(17)\n",
      "memory usage: 1.1+ MB\n"
     ]
    }
   ],
   "source": [
    "telco.info()"
   ]
  },
  {
   "cell_type": "code",
   "execution_count": 84,
   "id": "5a4f6a27",
   "metadata": {},
   "outputs": [
    {
     "data": {
      "text/plain": [
       "20.20      11\n",
       "19.75       9\n",
       "20.05       8\n",
       "19.90       8\n",
       "19.65       8\n",
       "           ..\n",
       "6849.40     1\n",
       "692.35      1\n",
       "130.15      1\n",
       "3211.90     1\n",
       "6844.50     1\n",
       "Name: TotalCharges, Length: 6530, dtype: int64"
      ]
     },
     "execution_count": 84,
     "metadata": {},
     "output_type": "execute_result"
    }
   ],
   "source": [
    "telco.TotalCharges.value_counts()"
   ]
  },
  {
   "cell_type": "code",
   "execution_count": 89,
   "id": "745e1ad3",
   "metadata": {},
   "outputs": [],
   "source": [
    "telco.TotalCharges = (\n",
    "    telco.TotalCharges + \n",
    "    '0').astype(float)"
   ]
  },
  {
   "cell_type": "markdown",
   "id": "2f123505",
   "metadata": {},
   "source": [
    "H0:There is no linear realationship between tenure and total charges\n",
    "Ha:There is a linear relationship between tenure and total charges"
   ]
  },
  {
   "cell_type": "code",
   "execution_count": null,
   "id": "baa035a8",
   "metadata": {},
   "outputs": [],
   "source": [
    "r, p = stats.pearsonr(telco.TotalCharges,\n",
    "                     telco.tenure)\n",
    "if p < α:\n",
    "    print('We can reject the null hypothesis')"
   ]
  },
  {
   "cell_type": "code",
   "execution_count": 91,
   "id": "6e52b009",
   "metadata": {},
   "outputs": [
    {
     "data": {
      "text/plain": [
       "4.094044991483017e-99"
      ]
     },
     "execution_count": 91,
     "metadata": {},
     "output_type": "execute_result"
    }
   ],
   "source": [
    "p"
   ]
  },
  {
   "cell_type": "code",
   "execution_count": 92,
   "id": "86c83fe4",
   "metadata": {},
   "outputs": [
    {
     "data": {
      "text/plain": [
       "0.2478998562861525"
      ]
     },
     "execution_count": 92,
     "metadata": {},
     "output_type": "execute_result"
    }
   ],
   "source": [
    "r"
   ]
  },
  {
   "cell_type": "markdown",
   "id": "4a4dbdbf",
   "metadata": {},
   "source": [
    "What happens if you control for phone and internet service?"
   ]
  },
  {
   "cell_type": "code",
   "execution_count": 93,
   "id": "41b5c434",
   "metadata": {},
   "outputs": [],
   "source": [
    "internets = telco.InternetService.unique()"
   ]
  },
  {
   "cell_type": "code",
   "execution_count": null,
   "id": "8fc7337a",
   "metadata": {},
   "outputs": [],
   "source": []
  },
  {
   "cell_type": "code",
   "execution_count": 94,
   "id": "beb27a74",
   "metadata": {},
   "outputs": [],
   "source": [
    "phones = telco.PhoneService.unique()"
   ]
  },
  {
   "cell_type": "code",
   "execution_count": 95,
   "id": "e734bd8a",
   "metadata": {},
   "outputs": [],
   "source": [
    "import itertools"
   ]
  },
  {
   "cell_type": "code",
   "execution_count": 96,
   "id": "883cfa4b",
   "metadata": {},
   "outputs": [],
   "source": [
    "combos = list(itertools.product(internets,phones))"
   ]
  },
  {
   "cell_type": "markdown",
   "id": "f7d2d7f1",
   "metadata": {},
   "source": [
    "#lets create a for loop for each of these combinations"
   ]
  },
  {
   "cell_type": "code",
   "execution_count": 97,
   "id": "583c9660",
   "metadata": {},
   "outputs": [
    {
     "data": {
      "text/html": [
       "<div>\n",
       "<style scoped>\n",
       "    .dataframe tbody tr th:only-of-type {\n",
       "        vertical-align: middle;\n",
       "    }\n",
       "\n",
       "    .dataframe tbody tr th {\n",
       "        vertical-align: top;\n",
       "    }\n",
       "\n",
       "    .dataframe thead th {\n",
       "        text-align: right;\n",
       "    }\n",
       "</style>\n",
       "<table border=\"1\" class=\"dataframe\">\n",
       "  <thead>\n",
       "    <tr style=\"text-align: right;\">\n",
       "      <th></th>\n",
       "      <th>customerID</th>\n",
       "      <th>gender</th>\n",
       "      <th>SeniorCitizen</th>\n",
       "      <th>Partner</th>\n",
       "      <th>Dependents</th>\n",
       "      <th>tenure</th>\n",
       "      <th>PhoneService</th>\n",
       "      <th>MultipleLines</th>\n",
       "      <th>InternetService</th>\n",
       "      <th>OnlineSecurity</th>\n",
       "      <th>...</th>\n",
       "      <th>DeviceProtection</th>\n",
       "      <th>TechSupport</th>\n",
       "      <th>StreamingTV</th>\n",
       "      <th>StreamingMovies</th>\n",
       "      <th>Contract</th>\n",
       "      <th>PaperlessBilling</th>\n",
       "      <th>PaymentMethod</th>\n",
       "      <th>MonthlyCharges</th>\n",
       "      <th>TotalCharges</th>\n",
       "      <th>Churn</th>\n",
       "    </tr>\n",
       "  </thead>\n",
       "  <tbody>\n",
       "    <tr>\n",
       "      <th>0</th>\n",
       "      <td>7590-VHVEG</td>\n",
       "      <td>Female</td>\n",
       "      <td>0</td>\n",
       "      <td>Yes</td>\n",
       "      <td>No</td>\n",
       "      <td>1</td>\n",
       "      <td>No</td>\n",
       "      <td>No phone service</td>\n",
       "      <td>DSL</td>\n",
       "      <td>No</td>\n",
       "      <td>...</td>\n",
       "      <td>No</td>\n",
       "      <td>No</td>\n",
       "      <td>No</td>\n",
       "      <td>No</td>\n",
       "      <td>Month-to-month</td>\n",
       "      <td>Yes</td>\n",
       "      <td>Electronic check</td>\n",
       "      <td>29.85</td>\n",
       "      <td>29.85</td>\n",
       "      <td>No</td>\n",
       "    </tr>\n",
       "    <tr>\n",
       "      <th>3</th>\n",
       "      <td>7795-CFOCW</td>\n",
       "      <td>Male</td>\n",
       "      <td>0</td>\n",
       "      <td>No</td>\n",
       "      <td>No</td>\n",
       "      <td>45</td>\n",
       "      <td>No</td>\n",
       "      <td>No phone service</td>\n",
       "      <td>DSL</td>\n",
       "      <td>Yes</td>\n",
       "      <td>...</td>\n",
       "      <td>Yes</td>\n",
       "      <td>Yes</td>\n",
       "      <td>No</td>\n",
       "      <td>No</td>\n",
       "      <td>One year</td>\n",
       "      <td>No</td>\n",
       "      <td>Bank transfer (automatic)</td>\n",
       "      <td>42.30</td>\n",
       "      <td>1840.75</td>\n",
       "      <td>No</td>\n",
       "    </tr>\n",
       "    <tr>\n",
       "      <th>7</th>\n",
       "      <td>6713-OKOMC</td>\n",
       "      <td>Female</td>\n",
       "      <td>0</td>\n",
       "      <td>No</td>\n",
       "      <td>No</td>\n",
       "      <td>10</td>\n",
       "      <td>No</td>\n",
       "      <td>No phone service</td>\n",
       "      <td>DSL</td>\n",
       "      <td>Yes</td>\n",
       "      <td>...</td>\n",
       "      <td>No</td>\n",
       "      <td>No</td>\n",
       "      <td>No</td>\n",
       "      <td>No</td>\n",
       "      <td>Month-to-month</td>\n",
       "      <td>No</td>\n",
       "      <td>Mailed check</td>\n",
       "      <td>29.75</td>\n",
       "      <td>301.90</td>\n",
       "      <td>No</td>\n",
       "    </tr>\n",
       "    <tr>\n",
       "      <th>20</th>\n",
       "      <td>8779-QRDMV</td>\n",
       "      <td>Male</td>\n",
       "      <td>1</td>\n",
       "      <td>No</td>\n",
       "      <td>No</td>\n",
       "      <td>1</td>\n",
       "      <td>No</td>\n",
       "      <td>No phone service</td>\n",
       "      <td>DSL</td>\n",
       "      <td>No</td>\n",
       "      <td>...</td>\n",
       "      <td>Yes</td>\n",
       "      <td>No</td>\n",
       "      <td>No</td>\n",
       "      <td>Yes</td>\n",
       "      <td>Month-to-month</td>\n",
       "      <td>Yes</td>\n",
       "      <td>Electronic check</td>\n",
       "      <td>39.65</td>\n",
       "      <td>39.65</td>\n",
       "      <td>Yes</td>\n",
       "    </tr>\n",
       "    <tr>\n",
       "      <th>27</th>\n",
       "      <td>8665-UTDHZ</td>\n",
       "      <td>Male</td>\n",
       "      <td>0</td>\n",
       "      <td>Yes</td>\n",
       "      <td>Yes</td>\n",
       "      <td>1</td>\n",
       "      <td>No</td>\n",
       "      <td>No phone service</td>\n",
       "      <td>DSL</td>\n",
       "      <td>No</td>\n",
       "      <td>...</td>\n",
       "      <td>No</td>\n",
       "      <td>No</td>\n",
       "      <td>No</td>\n",
       "      <td>No</td>\n",
       "      <td>Month-to-month</td>\n",
       "      <td>No</td>\n",
       "      <td>Electronic check</td>\n",
       "      <td>30.20</td>\n",
       "      <td>30.20</td>\n",
       "      <td>Yes</td>\n",
       "    </tr>\n",
       "    <tr>\n",
       "      <th>...</th>\n",
       "      <td>...</td>\n",
       "      <td>...</td>\n",
       "      <td>...</td>\n",
       "      <td>...</td>\n",
       "      <td>...</td>\n",
       "      <td>...</td>\n",
       "      <td>...</td>\n",
       "      <td>...</td>\n",
       "      <td>...</td>\n",
       "      <td>...</td>\n",
       "      <td>...</td>\n",
       "      <td>...</td>\n",
       "      <td>...</td>\n",
       "      <td>...</td>\n",
       "      <td>...</td>\n",
       "      <td>...</td>\n",
       "      <td>...</td>\n",
       "      <td>...</td>\n",
       "      <td>...</td>\n",
       "      <td>...</td>\n",
       "      <td>...</td>\n",
       "    </tr>\n",
       "    <tr>\n",
       "      <th>7003</th>\n",
       "      <td>4501-VCPFK</td>\n",
       "      <td>Male</td>\n",
       "      <td>0</td>\n",
       "      <td>No</td>\n",
       "      <td>No</td>\n",
       "      <td>26</td>\n",
       "      <td>No</td>\n",
       "      <td>No phone service</td>\n",
       "      <td>DSL</td>\n",
       "      <td>No</td>\n",
       "      <td>...</td>\n",
       "      <td>Yes</td>\n",
       "      <td>Yes</td>\n",
       "      <td>No</td>\n",
       "      <td>No</td>\n",
       "      <td>Month-to-month</td>\n",
       "      <td>No</td>\n",
       "      <td>Electronic check</td>\n",
       "      <td>35.75</td>\n",
       "      <td>1022.50</td>\n",
       "      <td>No</td>\n",
       "    </tr>\n",
       "    <tr>\n",
       "      <th>7007</th>\n",
       "      <td>2274-XUATA</td>\n",
       "      <td>Male</td>\n",
       "      <td>1</td>\n",
       "      <td>Yes</td>\n",
       "      <td>No</td>\n",
       "      <td>72</td>\n",
       "      <td>No</td>\n",
       "      <td>No phone service</td>\n",
       "      <td>DSL</td>\n",
       "      <td>Yes</td>\n",
       "      <td>...</td>\n",
       "      <td>Yes</td>\n",
       "      <td>Yes</td>\n",
       "      <td>Yes</td>\n",
       "      <td>Yes</td>\n",
       "      <td>Two year</td>\n",
       "      <td>Yes</td>\n",
       "      <td>Bank transfer (automatic)</td>\n",
       "      <td>63.10</td>\n",
       "      <td>4685.55</td>\n",
       "      <td>No</td>\n",
       "    </tr>\n",
       "    <tr>\n",
       "      <th>7029</th>\n",
       "      <td>2235-DWLJU</td>\n",
       "      <td>Female</td>\n",
       "      <td>1</td>\n",
       "      <td>No</td>\n",
       "      <td>No</td>\n",
       "      <td>6</td>\n",
       "      <td>No</td>\n",
       "      <td>No phone service</td>\n",
       "      <td>DSL</td>\n",
       "      <td>No</td>\n",
       "      <td>...</td>\n",
       "      <td>No</td>\n",
       "      <td>No</td>\n",
       "      <td>Yes</td>\n",
       "      <td>Yes</td>\n",
       "      <td>Month-to-month</td>\n",
       "      <td>Yes</td>\n",
       "      <td>Electronic check</td>\n",
       "      <td>44.40</td>\n",
       "      <td>263.05</td>\n",
       "      <td>No</td>\n",
       "    </tr>\n",
       "    <tr>\n",
       "      <th>7036</th>\n",
       "      <td>7750-EYXWZ</td>\n",
       "      <td>Female</td>\n",
       "      <td>0</td>\n",
       "      <td>No</td>\n",
       "      <td>No</td>\n",
       "      <td>12</td>\n",
       "      <td>No</td>\n",
       "      <td>No phone service</td>\n",
       "      <td>DSL</td>\n",
       "      <td>No</td>\n",
       "      <td>...</td>\n",
       "      <td>Yes</td>\n",
       "      <td>Yes</td>\n",
       "      <td>Yes</td>\n",
       "      <td>Yes</td>\n",
       "      <td>One year</td>\n",
       "      <td>No</td>\n",
       "      <td>Electronic check</td>\n",
       "      <td>60.65</td>\n",
       "      <td>743.30</td>\n",
       "      <td>No</td>\n",
       "    </tr>\n",
       "    <tr>\n",
       "      <th>7040</th>\n",
       "      <td>4801-JZAZL</td>\n",
       "      <td>Female</td>\n",
       "      <td>0</td>\n",
       "      <td>Yes</td>\n",
       "      <td>Yes</td>\n",
       "      <td>11</td>\n",
       "      <td>No</td>\n",
       "      <td>No phone service</td>\n",
       "      <td>DSL</td>\n",
       "      <td>Yes</td>\n",
       "      <td>...</td>\n",
       "      <td>No</td>\n",
       "      <td>No</td>\n",
       "      <td>No</td>\n",
       "      <td>No</td>\n",
       "      <td>Month-to-month</td>\n",
       "      <td>Yes</td>\n",
       "      <td>Electronic check</td>\n",
       "      <td>29.60</td>\n",
       "      <td>346.45</td>\n",
       "      <td>No</td>\n",
       "    </tr>\n",
       "  </tbody>\n",
       "</table>\n",
       "<p>682 rows × 21 columns</p>\n",
       "</div>"
      ],
      "text/plain": [
       "      customerID  gender  SeniorCitizen Partner Dependents  tenure  \\\n",
       "0     7590-VHVEG  Female              0     Yes         No       1   \n",
       "3     7795-CFOCW    Male              0      No         No      45   \n",
       "7     6713-OKOMC  Female              0      No         No      10   \n",
       "20    8779-QRDMV    Male              1      No         No       1   \n",
       "27    8665-UTDHZ    Male              0     Yes        Yes       1   \n",
       "...          ...     ...            ...     ...        ...     ...   \n",
       "7003  4501-VCPFK    Male              0      No         No      26   \n",
       "7007  2274-XUATA    Male              1     Yes         No      72   \n",
       "7029  2235-DWLJU  Female              1      No         No       6   \n",
       "7036  7750-EYXWZ  Female              0      No         No      12   \n",
       "7040  4801-JZAZL  Female              0     Yes        Yes      11   \n",
       "\n",
       "     PhoneService     MultipleLines InternetService OnlineSecurity  ...  \\\n",
       "0              No  No phone service             DSL             No  ...   \n",
       "3              No  No phone service             DSL            Yes  ...   \n",
       "7              No  No phone service             DSL            Yes  ...   \n",
       "20             No  No phone service             DSL             No  ...   \n",
       "27             No  No phone service             DSL             No  ...   \n",
       "...           ...               ...             ...            ...  ...   \n",
       "7003           No  No phone service             DSL             No  ...   \n",
       "7007           No  No phone service             DSL            Yes  ...   \n",
       "7029           No  No phone service             DSL             No  ...   \n",
       "7036           No  No phone service             DSL             No  ...   \n",
       "7040           No  No phone service             DSL            Yes  ...   \n",
       "\n",
       "     DeviceProtection TechSupport StreamingTV StreamingMovies        Contract  \\\n",
       "0                  No          No          No              No  Month-to-month   \n",
       "3                 Yes         Yes          No              No        One year   \n",
       "7                  No          No          No              No  Month-to-month   \n",
       "20                Yes          No          No             Yes  Month-to-month   \n",
       "27                 No          No          No              No  Month-to-month   \n",
       "...               ...         ...         ...             ...             ...   \n",
       "7003              Yes         Yes          No              No  Month-to-month   \n",
       "7007              Yes         Yes         Yes             Yes        Two year   \n",
       "7029               No          No         Yes             Yes  Month-to-month   \n",
       "7036              Yes         Yes         Yes             Yes        One year   \n",
       "7040               No          No          No              No  Month-to-month   \n",
       "\n",
       "     PaperlessBilling              PaymentMethod MonthlyCharges  TotalCharges  \\\n",
       "0                 Yes           Electronic check          29.85         29.85   \n",
       "3                  No  Bank transfer (automatic)          42.30       1840.75   \n",
       "7                  No               Mailed check          29.75        301.90   \n",
       "20                Yes           Electronic check          39.65         39.65   \n",
       "27                 No           Electronic check          30.20         30.20   \n",
       "...               ...                        ...            ...           ...   \n",
       "7003               No           Electronic check          35.75       1022.50   \n",
       "7007              Yes  Bank transfer (automatic)          63.10       4685.55   \n",
       "7029              Yes           Electronic check          44.40        263.05   \n",
       "7036               No           Electronic check          60.65        743.30   \n",
       "7040              Yes           Electronic check          29.60        346.45   \n",
       "\n",
       "      Churn  \n",
       "0        No  \n",
       "3        No  \n",
       "7        No  \n",
       "20      Yes  \n",
       "27      Yes  \n",
       "...     ...  \n",
       "7003     No  \n",
       "7007     No  \n",
       "7029     No  \n",
       "7036     No  \n",
       "7040     No  \n",
       "\n",
       "[682 rows x 21 columns]"
      ]
     },
     "execution_count": 97,
     "metadata": {},
     "output_type": "execute_result"
    }
   ],
   "source": [
    "telco[(telco['InternetService'] == 'DSL'\n",
    "      )& (telco['PhoneService'] == 'No')]"
   ]
  },
  {
   "cell_type": "code",
   "execution_count": null,
   "id": "ac4383cf",
   "metadata": {},
   "outputs": [],
   "source": [
    "for combo in combos:\n",
    "    subset = telco[(telco['InternetService'] == combo[0]\n",
    "      )& (telco['PhoneService'] == combo[1])]\n",
    "    print(combo)\n",
    "    print(subset.shape)\n",
    "    if (combo == ('Fiber optic', 'No')) or (combo == ('No', 'No')):\n",
    "        pass\n",
    "    else:\n",
    "        r, p = stats.pearsonr(subset.tenure, \n",
    "                             subset.TotalCharges)\n",
    "        if p < α:\n",
    "            print(f'''\n",
    "            we can reject the null hypothesis that\n",
    "            there is no linear relationship between Internet\n",
    "            Service Type {combo[0]} and Phone Service Type\n",
    "            {combo[1]}''')"
   ]
  },
  {
   "cell_type": "code",
   "execution_count": null,
   "id": "dbdd5633",
   "metadata": {},
   "outputs": [],
   "source": []
  },
  {
   "cell_type": "markdown",
   "id": "e2cff871",
   "metadata": {},
   "source": [
    "Use the employees database. Is there a relationship between how long an employee has been with the company and their salary?"
   ]
  },
  {
   "cell_type": "code",
   "execution_count": 99,
   "id": "96ea2950",
   "metadata": {},
   "outputs": [],
   "source": [
    "url = f'mysql+pymysql://{env.user}:{env.password}@{env.host}/employees'"
   ]
  },
  {
   "cell_type": "code",
   "execution_count": 100,
   "id": "1185b828",
   "metadata": {},
   "outputs": [],
   "source": [
    "query = '''\n",
    "SELECT\n",
    "    DATEDIFF((SELECT MAX(hire_date) \n",
    "    FROM employees), e.hire_date) AS tenure,\n",
    "    s.salary AS salary\n",
    "FROM employees e\n",
    "JOIN salaries s USING (emp_no)\n",
    "WHERE s.to_date > NOW()\n",
    "'''\n",
    "employees_with_salaries = pd.read_sql(query, url)"
   ]
  },
  {
   "cell_type": "code",
   "execution_count": 101,
   "id": "d63ba0db",
   "metadata": {},
   "outputs": [
    {
     "data": {
      "text/html": [
       "<div>\n",
       "<style scoped>\n",
       "    .dataframe tbody tr th:only-of-type {\n",
       "        vertical-align: middle;\n",
       "    }\n",
       "\n",
       "    .dataframe tbody tr th {\n",
       "        vertical-align: top;\n",
       "    }\n",
       "\n",
       "    .dataframe thead th {\n",
       "        text-align: right;\n",
       "    }\n",
       "</style>\n",
       "<table border=\"1\" class=\"dataframe\">\n",
       "  <thead>\n",
       "    <tr style=\"text-align: right;\">\n",
       "      <th></th>\n",
       "      <th>tenure</th>\n",
       "      <th>salary</th>\n",
       "    </tr>\n",
       "  </thead>\n",
       "  <tbody>\n",
       "    <tr>\n",
       "      <th>0</th>\n",
       "      <td>4964</td>\n",
       "      <td>88958</td>\n",
       "    </tr>\n",
       "    <tr>\n",
       "      <th>1</th>\n",
       "      <td>5181</td>\n",
       "      <td>72527</td>\n",
       "    </tr>\n",
       "    <tr>\n",
       "      <th>2</th>\n",
       "      <td>4901</td>\n",
       "      <td>43311</td>\n",
       "    </tr>\n",
       "    <tr>\n",
       "      <th>3</th>\n",
       "      <td>4806</td>\n",
       "      <td>74057</td>\n",
       "    </tr>\n",
       "    <tr>\n",
       "      <th>4</th>\n",
       "      <td>3790</td>\n",
       "      <td>94692</td>\n",
       "    </tr>\n",
       "  </tbody>\n",
       "</table>\n",
       "</div>"
      ],
      "text/plain": [
       "   tenure  salary\n",
       "0    4964   88958\n",
       "1    5181   72527\n",
       "2    4901   43311\n",
       "3    4806   74057\n",
       "4    3790   94692"
      ]
     },
     "execution_count": 101,
     "metadata": {},
     "output_type": "execute_result"
    }
   ],
   "source": [
    "employees_with_salaries.head()"
   ]
  },
  {
   "cell_type": "markdown",
   "id": "ee3b9049",
   "metadata": {},
   "source": [
    "H0:There is no linear relationship between tenure and salary\n",
    "\n",
    "Ha:There is a linear relattionship between tenure and salary"
   ]
  },
  {
   "cell_type": "code",
   "execution_count": 102,
   "id": "8e567c60",
   "metadata": {},
   "outputs": [],
   "source": [
    "r, p = stats.pearsonr(\n",
    "    employees_with_salaries['tenure'],\n",
    "employees_with_salaries['salary'])"
   ]
  },
  {
   "cell_type": "code",
   "execution_count": 103,
   "id": "8ab671f5",
   "metadata": {},
   "outputs": [
    {
     "data": {
      "text/plain": [
       "True"
      ]
     },
     "execution_count": 103,
     "metadata": {},
     "output_type": "execute_result"
    }
   ],
   "source": [
    "p < α"
   ]
  },
  {
   "cell_type": "code",
   "execution_count": 104,
   "id": "5f6ed90c",
   "metadata": {},
   "outputs": [
    {
     "data": {
      "text/plain": [
       "0.3064625613186014"
      ]
     },
     "execution_count": 104,
     "metadata": {},
     "output_type": "execute_result"
    }
   ],
   "source": [
    "r"
   ]
  },
  {
   "cell_type": "markdown",
   "id": "c3abd9b6",
   "metadata": {},
   "source": [
    "Is there a relationship between how long an employee has been with the company and the number of titles they have had?"
   ]
  },
  {
   "cell_type": "code",
   "execution_count": 105,
   "id": "2abd9bbb",
   "metadata": {},
   "outputs": [],
   "source": [
    "query = '''\n",
    "SELECT \n",
    "DATEDIFF(\n",
    "(SELECT MAX(hire_date) FROM employees),\n",
    "hire_date\n",
    ") AS tenure, \n",
    "t.title_count\n",
    "FROM employees e\n",
    "JOIN (\n",
    "SELECT \n",
    "emp_no, \n",
    "COUNT(*) \n",
    "title_count\n",
    "FROM titles GROUP BY emp_no) t USING(emp_no)\n",
    "ORDER BY title_count DESC;\n",
    "'''\n",
    "title_tenure = pd.read_sql(query, url)"
   ]
  },
  {
   "cell_type": "code",
   "execution_count": 106,
   "id": "8a7d020e",
   "metadata": {},
   "outputs": [
    {
     "data": {
      "text/html": [
       "<div>\n",
       "<style scoped>\n",
       "    .dataframe tbody tr th:only-of-type {\n",
       "        vertical-align: middle;\n",
       "    }\n",
       "\n",
       "    .dataframe tbody tr th {\n",
       "        vertical-align: top;\n",
       "    }\n",
       "\n",
       "    .dataframe thead th {\n",
       "        text-align: right;\n",
       "    }\n",
       "</style>\n",
       "<table border=\"1\" class=\"dataframe\">\n",
       "  <thead>\n",
       "    <tr style=\"text-align: right;\">\n",
       "      <th></th>\n",
       "      <th>tenure</th>\n",
       "      <th>title_count</th>\n",
       "    </tr>\n",
       "  </thead>\n",
       "  <tbody>\n",
       "    <tr>\n",
       "      <th>0</th>\n",
       "      <td>3538</td>\n",
       "      <td>3</td>\n",
       "    </tr>\n",
       "    <tr>\n",
       "      <th>1</th>\n",
       "      <td>3966</td>\n",
       "      <td>3</td>\n",
       "    </tr>\n",
       "    <tr>\n",
       "      <th>2</th>\n",
       "      <td>3482</td>\n",
       "      <td>3</td>\n",
       "    </tr>\n",
       "    <tr>\n",
       "      <th>3</th>\n",
       "      <td>4299</td>\n",
       "      <td>3</td>\n",
       "    </tr>\n",
       "    <tr>\n",
       "      <th>4</th>\n",
       "      <td>4149</td>\n",
       "      <td>3</td>\n",
       "    </tr>\n",
       "  </tbody>\n",
       "</table>\n",
       "</div>"
      ],
      "text/plain": [
       "   tenure  title_count\n",
       "0    3538            3\n",
       "1    3966            3\n",
       "2    3482            3\n",
       "3    4299            3\n",
       "4    4149            3"
      ]
     },
     "execution_count": 106,
     "metadata": {},
     "output_type": "execute_result"
    }
   ],
   "source": [
    "title_tenure.head()"
   ]
  },
  {
   "cell_type": "markdown",
   "id": "c074de71",
   "metadata": {},
   "source": [
    "H0:There is no linear relationship between tenure and number of titles\n",
    "Ha:There is a linear relationship between tenure and number of titles"
   ]
  },
  {
   "cell_type": "code",
   "execution_count": 107,
   "id": "05fa2cb7",
   "metadata": {},
   "outputs": [
    {
     "name": "stdout",
     "output_type": "stream",
     "text": [
      "we can reject the null hypothesis\n"
     ]
    }
   ],
   "source": [
    "r, p = stats.pearsonr(title_tenure.tenure, title_tenure.title_count)\n",
    "if p < α:\n",
    "    print('we can reject the null hypothesis')"
   ]
  },
  {
   "cell_type": "code",
   "execution_count": 108,
   "id": "3ec950b9",
   "metadata": {},
   "outputs": [
    {
     "data": {
      "text/plain": [
       "0.26659892991364037"
      ]
     },
     "execution_count": 108,
     "metadata": {},
     "output_type": "execute_result"
    }
   ],
   "source": [
    "r"
   ]
  },
  {
   "cell_type": "markdown",
   "id": "af7e98d3",
   "metadata": {},
   "source": [
    "Use the sleepstudy data.\n",
    "Is there a relationship between days and reaction time?"
   ]
  },
  {
   "cell_type": "code",
   "execution_count": 109,
   "id": "e85f8a17",
   "metadata": {},
   "outputs": [],
   "source": [
    "sleep = data('sleepstudy')"
   ]
  },
  {
   "cell_type": "code",
   "execution_count": 111,
   "id": "f02e8d04",
   "metadata": {},
   "outputs": [
    {
     "data": {
      "text/html": [
       "<div>\n",
       "<style scoped>\n",
       "    .dataframe tbody tr th:only-of-type {\n",
       "        vertical-align: middle;\n",
       "    }\n",
       "\n",
       "    .dataframe tbody tr th {\n",
       "        vertical-align: top;\n",
       "    }\n",
       "\n",
       "    .dataframe thead th {\n",
       "        text-align: right;\n",
       "    }\n",
       "</style>\n",
       "<table border=\"1\" class=\"dataframe\">\n",
       "  <thead>\n",
       "    <tr style=\"text-align: right;\">\n",
       "      <th></th>\n",
       "      <th>Reaction</th>\n",
       "      <th>Days</th>\n",
       "      <th>Subject</th>\n",
       "    </tr>\n",
       "  </thead>\n",
       "  <tbody>\n",
       "    <tr>\n",
       "      <th>1</th>\n",
       "      <td>249.5600</td>\n",
       "      <td>0</td>\n",
       "      <td>308</td>\n",
       "    </tr>\n",
       "    <tr>\n",
       "      <th>2</th>\n",
       "      <td>258.7047</td>\n",
       "      <td>1</td>\n",
       "      <td>308</td>\n",
       "    </tr>\n",
       "    <tr>\n",
       "      <th>3</th>\n",
       "      <td>250.8006</td>\n",
       "      <td>2</td>\n",
       "      <td>308</td>\n",
       "    </tr>\n",
       "    <tr>\n",
       "      <th>4</th>\n",
       "      <td>321.4398</td>\n",
       "      <td>3</td>\n",
       "      <td>308</td>\n",
       "    </tr>\n",
       "    <tr>\n",
       "      <th>5</th>\n",
       "      <td>356.8519</td>\n",
       "      <td>4</td>\n",
       "      <td>308</td>\n",
       "    </tr>\n",
       "    <tr>\n",
       "      <th>...</th>\n",
       "      <td>...</td>\n",
       "      <td>...</td>\n",
       "      <td>...</td>\n",
       "    </tr>\n",
       "    <tr>\n",
       "      <th>176</th>\n",
       "      <td>329.6076</td>\n",
       "      <td>5</td>\n",
       "      <td>372</td>\n",
       "    </tr>\n",
       "    <tr>\n",
       "      <th>177</th>\n",
       "      <td>334.4818</td>\n",
       "      <td>6</td>\n",
       "      <td>372</td>\n",
       "    </tr>\n",
       "    <tr>\n",
       "      <th>178</th>\n",
       "      <td>343.2199</td>\n",
       "      <td>7</td>\n",
       "      <td>372</td>\n",
       "    </tr>\n",
       "    <tr>\n",
       "      <th>179</th>\n",
       "      <td>369.1417</td>\n",
       "      <td>8</td>\n",
       "      <td>372</td>\n",
       "    </tr>\n",
       "    <tr>\n",
       "      <th>180</th>\n",
       "      <td>364.1236</td>\n",
       "      <td>9</td>\n",
       "      <td>372</td>\n",
       "    </tr>\n",
       "  </tbody>\n",
       "</table>\n",
       "<p>180 rows × 3 columns</p>\n",
       "</div>"
      ],
      "text/plain": [
       "     Reaction  Days  Subject\n",
       "1    249.5600     0      308\n",
       "2    258.7047     1      308\n",
       "3    250.8006     2      308\n",
       "4    321.4398     3      308\n",
       "5    356.8519     4      308\n",
       "..        ...   ...      ...\n",
       "176  329.6076     5      372\n",
       "177  334.4818     6      372\n",
       "178  343.2199     7      372\n",
       "179  369.1417     8      372\n",
       "180  364.1236     9      372\n",
       "\n",
       "[180 rows x 3 columns]"
      ]
     },
     "execution_count": 111,
     "metadata": {},
     "output_type": "execute_result"
    }
   ],
   "source": [
    "sleep"
   ]
  },
  {
   "cell_type": "code",
   "execution_count": 110,
   "id": "b8f2c03f",
   "metadata": {},
   "outputs": [
    {
     "data": {
      "text/plain": [
       "Index(['Reaction', 'Days', 'Subject'], dtype='object')"
      ]
     },
     "execution_count": 110,
     "metadata": {},
     "output_type": "execute_result"
    }
   ],
   "source": [
    "sleep.columns"
   ]
  },
  {
   "cell_type": "markdown",
   "id": "03704412",
   "metadata": {},
   "source": [
    "#H0 no linear relationship between reaction time and days\n",
    "#Ha there is a linear relationship between reaction time and days"
   ]
  },
  {
   "cell_type": "code",
   "execution_count": null,
   "id": "bedae19c",
   "metadata": {},
   "outputs": [],
   "source": []
  },
  {
   "cell_type": "code",
   "execution_count": 112,
   "id": "936036ee",
   "metadata": {},
   "outputs": [
    {
     "name": "stdout",
     "output_type": "stream",
     "text": [
      "we can reject the null hypothesis\n"
     ]
    }
   ],
   "source": [
    "r, p = stats.pearsonr(sleep.Reaction, sleep.Days)\n",
    "if p < α:\n",
    "    print('we can reject the null hypothesis')"
   ]
  },
  {
   "cell_type": "code",
   "execution_count": null,
   "id": "3b3dea5b",
   "metadata": {},
   "outputs": [],
   "source": []
  },
  {
   "cell_type": "markdown",
   "id": "29f1f6d0",
   "metadata": {},
   "source": [
    "Use the following contingency table to help answer the question of whether using a macbook and being a codeup student are independent of each other."
   ]
  },
  {
   "cell_type": "code",
   "execution_count": 113,
   "id": "a2a20c8b",
   "metadata": {},
   "outputs": [],
   "source": [
    "observed = pd.DataFrame(\n",
    "    {\n",
    "        'codeup_student': [49,1],\n",
    "        'not_student': [20,30]\n",
    "    }, index=['macbook_user', 'not_macbook']\n",
    ")"
   ]
  },
  {
   "cell_type": "code",
   "execution_count": 114,
   "id": "65013032",
   "metadata": {},
   "outputs": [
    {
     "data": {
      "text/html": [
       "<div>\n",
       "<style scoped>\n",
       "    .dataframe tbody tr th:only-of-type {\n",
       "        vertical-align: middle;\n",
       "    }\n",
       "\n",
       "    .dataframe tbody tr th {\n",
       "        vertical-align: top;\n",
       "    }\n",
       "\n",
       "    .dataframe thead th {\n",
       "        text-align: right;\n",
       "    }\n",
       "</style>\n",
       "<table border=\"1\" class=\"dataframe\">\n",
       "  <thead>\n",
       "    <tr style=\"text-align: right;\">\n",
       "      <th></th>\n",
       "      <th>codeup_student</th>\n",
       "      <th>not_student</th>\n",
       "    </tr>\n",
       "  </thead>\n",
       "  <tbody>\n",
       "    <tr>\n",
       "      <th>macbook_user</th>\n",
       "      <td>49</td>\n",
       "      <td>20</td>\n",
       "    </tr>\n",
       "    <tr>\n",
       "      <th>not_macbook</th>\n",
       "      <td>1</td>\n",
       "      <td>30</td>\n",
       "    </tr>\n",
       "  </tbody>\n",
       "</table>\n",
       "</div>"
      ],
      "text/plain": [
       "              codeup_student  not_student\n",
       "macbook_user              49           20\n",
       "not_macbook                1           30"
      ]
     },
     "execution_count": 114,
     "metadata": {},
     "output_type": "execute_result"
    }
   ],
   "source": [
    "observed"
   ]
  },
  {
   "cell_type": "markdown",
   "id": "64067ce4",
   "metadata": {},
   "source": [
    "#H0: There is no dependence between being a codeup\n",
    "#student and being a macbook user\n",
    "#Ha: There is a dependence between being a codeup student\n",
    "#and being a macbook user"
   ]
  },
  {
   "cell_type": "code",
   "execution_count": null,
   "id": "bfca9467",
   "metadata": {},
   "outputs": [],
   "source": []
  },
  {
   "cell_type": "code",
   "execution_count": 115,
   "id": "4c288ec0",
   "metadata": {},
   "outputs": [],
   "source": [
    "chi2, p, _, expected = stats.chi2_contingency(observed)"
   ]
  },
  {
   "cell_type": "code",
   "execution_count": 116,
   "id": "8da50bcc",
   "metadata": {},
   "outputs": [
    {
     "data": {
      "text/plain": [
       "36.65264142122487"
      ]
     },
     "execution_count": 116,
     "metadata": {},
     "output_type": "execute_result"
    }
   ],
   "source": [
    "chi2"
   ]
  },
  {
   "cell_type": "code",
   "execution_count": 117,
   "id": "4b88acb2",
   "metadata": {},
   "outputs": [
    {
     "data": {
      "text/plain": [
       "True"
      ]
     },
     "execution_count": 117,
     "metadata": {},
     "output_type": "execute_result"
    }
   ],
   "source": [
    "p < α"
   ]
  },
  {
   "cell_type": "code",
   "execution_count": 118,
   "id": "64ef7f7f",
   "metadata": {},
   "outputs": [
    {
     "data": {
      "text/plain": [
       "1.4116760526193828e-09"
      ]
     },
     "execution_count": 118,
     "metadata": {},
     "output_type": "execute_result"
    }
   ],
   "source": [
    "p"
   ]
  },
  {
   "cell_type": "code",
   "execution_count": 119,
   "id": "a7785e2d",
   "metadata": {},
   "outputs": [
    {
     "data": {
      "text/plain": [
       "array([[34.5, 34.5],\n",
       "       [15.5, 15.5]])"
      ]
     },
     "execution_count": 119,
     "metadata": {},
     "output_type": "execute_result"
    }
   ],
   "source": [
    "expected"
   ]
  },
  {
   "cell_type": "code",
   "execution_count": 120,
   "id": "cd897987",
   "metadata": {},
   "outputs": [],
   "source": [
    "mpg = data('mpg')"
   ]
  },
  {
   "cell_type": "code",
   "execution_count": 121,
   "id": "47fae187",
   "metadata": {},
   "outputs": [
    {
     "data": {
      "text/html": [
       "<div>\n",
       "<style scoped>\n",
       "    .dataframe tbody tr th:only-of-type {\n",
       "        vertical-align: middle;\n",
       "    }\n",
       "\n",
       "    .dataframe tbody tr th {\n",
       "        vertical-align: top;\n",
       "    }\n",
       "\n",
       "    .dataframe thead th {\n",
       "        text-align: right;\n",
       "    }\n",
       "</style>\n",
       "<table border=\"1\" class=\"dataframe\">\n",
       "  <thead>\n",
       "    <tr style=\"text-align: right;\">\n",
       "      <th></th>\n",
       "      <th>manufacturer</th>\n",
       "      <th>model</th>\n",
       "      <th>displ</th>\n",
       "      <th>year</th>\n",
       "      <th>cyl</th>\n",
       "      <th>trans</th>\n",
       "      <th>drv</th>\n",
       "      <th>cty</th>\n",
       "      <th>hwy</th>\n",
       "      <th>fl</th>\n",
       "      <th>class</th>\n",
       "    </tr>\n",
       "  </thead>\n",
       "  <tbody>\n",
       "    <tr>\n",
       "      <th>1</th>\n",
       "      <td>audi</td>\n",
       "      <td>a4</td>\n",
       "      <td>1.8</td>\n",
       "      <td>1999</td>\n",
       "      <td>4</td>\n",
       "      <td>auto(l5)</td>\n",
       "      <td>f</td>\n",
       "      <td>18</td>\n",
       "      <td>29</td>\n",
       "      <td>p</td>\n",
       "      <td>compact</td>\n",
       "    </tr>\n",
       "    <tr>\n",
       "      <th>2</th>\n",
       "      <td>audi</td>\n",
       "      <td>a4</td>\n",
       "      <td>1.8</td>\n",
       "      <td>1999</td>\n",
       "      <td>4</td>\n",
       "      <td>manual(m5)</td>\n",
       "      <td>f</td>\n",
       "      <td>21</td>\n",
       "      <td>29</td>\n",
       "      <td>p</td>\n",
       "      <td>compact</td>\n",
       "    </tr>\n",
       "  </tbody>\n",
       "</table>\n",
       "</div>"
      ],
      "text/plain": [
       "  manufacturer model  displ  year  cyl       trans drv  cty  hwy fl    class\n",
       "1         audi    a4    1.8  1999    4    auto(l5)   f   18   29  p  compact\n",
       "2         audi    a4    1.8  1999    4  manual(m5)   f   21   29  p  compact"
      ]
     },
     "execution_count": 121,
     "metadata": {},
     "output_type": "execute_result"
    }
   ],
   "source": [
    "mpg.head(2)"
   ]
  },
  {
   "cell_type": "code",
   "execution_count": 122,
   "id": "a6ab3e85",
   "metadata": {},
   "outputs": [],
   "source": [
    "observed = pd.crosstab(mpg.drv, mpg.year)"
   ]
  },
  {
   "cell_type": "markdown",
   "id": "0ae76124",
   "metadata": {},
   "source": [
    "#H0: Drive and Year are independent of eachother\n",
    "#Ha: Drive and Year have dependency"
   ]
  },
  {
   "cell_type": "code",
   "execution_count": null,
   "id": "0d02e77b",
   "metadata": {},
   "outputs": [],
   "source": []
  },
  {
   "cell_type": "code",
   "execution_count": 123,
   "id": "f4c6c105",
   "metadata": {},
   "outputs": [
    {
     "name": "stdout",
     "output_type": "stream",
     "text": [
      "we fail to reject the null hypothesis\n"
     ]
    }
   ],
   "source": [
    "chi2, p, _, expected = stats.chi2_contingency(observed)\n",
    "if p < α:\n",
    "    print('we can reject the null hypothesis')\n",
    "else:\n",
    "    print('we fail to reject the null hypothesis')"
   ]
  },
  {
   "cell_type": "code",
   "execution_count": null,
   "id": "d313cd0d",
   "metadata": {},
   "outputs": [],
   "source": []
  },
  {
   "cell_type": "code",
   "execution_count": 124,
   "id": "cf6cdace",
   "metadata": {},
   "outputs": [
    {
     "data": {
      "text/plain": [
       "0.547033073060878"
      ]
     },
     "execution_count": 124,
     "metadata": {},
     "output_type": "execute_result"
    }
   ],
   "source": [
    "p"
   ]
  },
  {
   "cell_type": "code",
   "execution_count": 125,
   "id": "e5cbf7ae",
   "metadata": {},
   "outputs": [
    {
     "data": {
      "text/plain": [
       "1.206492031507602"
      ]
     },
     "execution_count": 125,
     "metadata": {},
     "output_type": "execute_result"
    }
   ],
   "source": [
    "chi2"
   ]
  },
  {
   "cell_type": "code",
   "execution_count": null,
   "id": "c84d528b",
   "metadata": {},
   "outputs": [],
   "source": []
  },
  {
   "cell_type": "markdown",
   "id": "a566720a",
   "metadata": {},
   "source": [
    "Use the data from the employees database to answer these questions:\n",
    "Is an employee's gender independent of whether an employee works in sales or marketing? (only look at current employees)"
   ]
  },
  {
   "cell_type": "code",
   "execution_count": 126,
   "id": "394c8b6b",
   "metadata": {},
   "outputs": [],
   "source": [
    "query = ''' \n",
    "        select emp_no, gender, dept_name\n",
    "        from employees\n",
    "            join dept_emp\n",
    "                using (emp_no)\n",
    "            join departments\n",
    "                using (dept_no)\n",
    "        where to_date = '9999-01-01'\n",
    "        and dept_name in ('Marketing','Sales')\n",
    "        '''\n",
    "gender_dept = pd.read_sql(query, url)"
   ]
  },
  {
   "cell_type": "code",
   "execution_count": 127,
   "id": "002ca5cd",
   "metadata": {},
   "outputs": [],
   "source": [
    "observed = pd.crosstab(gender_dept.gender, gender_dept.dept_name)"
   ]
  },
  {
   "cell_type": "code",
   "execution_count": 128,
   "id": "de26c0b3",
   "metadata": {},
   "outputs": [
    {
     "data": {
      "text/html": [
       "<div>\n",
       "<style scoped>\n",
       "    .dataframe tbody tr th:only-of-type {\n",
       "        vertical-align: middle;\n",
       "    }\n",
       "\n",
       "    .dataframe tbody tr th {\n",
       "        vertical-align: top;\n",
       "    }\n",
       "\n",
       "    .dataframe thead th {\n",
       "        text-align: right;\n",
       "    }\n",
       "</style>\n",
       "<table border=\"1\" class=\"dataframe\">\n",
       "  <thead>\n",
       "    <tr style=\"text-align: right;\">\n",
       "      <th>dept_name</th>\n",
       "      <th>Marketing</th>\n",
       "      <th>Sales</th>\n",
       "    </tr>\n",
       "    <tr>\n",
       "      <th>gender</th>\n",
       "      <th></th>\n",
       "      <th></th>\n",
       "    </tr>\n",
       "  </thead>\n",
       "  <tbody>\n",
       "    <tr>\n",
       "      <th>F</th>\n",
       "      <td>5864</td>\n",
       "      <td>14999</td>\n",
       "    </tr>\n",
       "    <tr>\n",
       "      <th>M</th>\n",
       "      <td>8978</td>\n",
       "      <td>22702</td>\n",
       "    </tr>\n",
       "  </tbody>\n",
       "</table>\n",
       "</div>"
      ],
      "text/plain": [
       "dept_name  Marketing  Sales\n",
       "gender                     \n",
       "F               5864  14999\n",
       "M               8978  22702"
      ]
     },
     "execution_count": 128,
     "metadata": {},
     "output_type": "execute_result"
    }
   ],
   "source": [
    "observed"
   ]
  },
  {
   "cell_type": "code",
   "execution_count": null,
   "id": "a623c185",
   "metadata": {},
   "outputs": [],
   "source": []
  },
  {
   "cell_type": "markdown",
   "id": "a3e7ddab",
   "metadata": {},
   "source": [
    "#H0: Gender and status in market or sales is independent\n",
    "#Ha: Gender and status in marketing or sales is dependent"
   ]
  },
  {
   "cell_type": "code",
   "execution_count": 129,
   "id": "525849af",
   "metadata": {},
   "outputs": [],
   "source": [
    "chi2, p, _, expected = \\\n",
    "stats.chi2_contingency(observed)"
   ]
  },
  {
   "cell_type": "code",
   "execution_count": 130,
   "id": "5a41a14d",
   "metadata": {},
   "outputs": [],
   "source": [
    "if p < α:\n",
    "    print('reject the null')"
   ]
  },
  {
   "cell_type": "code",
   "execution_count": 131,
   "id": "c520a537",
   "metadata": {},
   "outputs": [
    {
     "data": {
      "text/plain": [
       "0.5691938610810126"
      ]
     },
     "execution_count": 131,
     "metadata": {},
     "output_type": "execute_result"
    }
   ],
   "source": [
    "p"
   ]
  },
  {
   "cell_type": "code",
   "execution_count": 133,
   "id": "351f9bac",
   "metadata": {},
   "outputs": [
    {
     "data": {
      "text/plain": [
       "0.3240332004060638"
      ]
     },
     "execution_count": 133,
     "metadata": {},
     "output_type": "execute_result"
    }
   ],
   "source": [
    "chi2"
   ]
  },
  {
   "cell_type": "markdown",
   "id": "e1622b61",
   "metadata": {},
   "source": [
    "Is an employee's gender independent of whether or not they are or have been a manager?"
   ]
  },
  {
   "cell_type": "code",
   "execution_count": null,
   "id": "f9843c05",
   "metadata": {},
   "outputs": [],
   "source": []
  },
  {
   "cell_type": "code",
   "execution_count": 134,
   "id": "0c4aa8dc",
   "metadata": {},
   "outputs": [],
   "source": [
    "query = '''\n",
    "        select emp_no, gender, dept_no\n",
    "        from employees\n",
    "            left join dept_manager\n",
    "                using (emp_no)\n",
    "        '''\n",
    "gender_managers = pd.read_sql(query, url)"
   ]
  },
  {
   "cell_type": "code",
   "execution_count": 135,
   "id": "c1ccd1e6",
   "metadata": {},
   "outputs": [
    {
     "data": {
      "text/plain": [
       "d004    4\n",
       "d006    4\n",
       "d009    4\n",
       "d001    2\n",
       "d002    2\n",
       "d003    2\n",
       "d005    2\n",
       "d007    2\n",
       "d008    2\n",
       "Name: dept_no, dtype: int64"
      ]
     },
     "execution_count": 135,
     "metadata": {},
     "output_type": "execute_result"
    }
   ],
   "source": [
    "gender_managers.dept_no.value_counts()"
   ]
  },
  {
   "cell_type": "code",
   "execution_count": 136,
   "id": "29e58ff1",
   "metadata": {},
   "outputs": [
    {
     "data": {
      "text/plain": [
       "0         0\n",
       "1         0\n",
       "2         0\n",
       "3         0\n",
       "4         0\n",
       "         ..\n",
       "300019    0\n",
       "300020    0\n",
       "300021    0\n",
       "300022    0\n",
       "300023    0\n",
       "Name: dept_no, Length: 300024, dtype: int64"
      ]
     },
     "execution_count": 136,
     "metadata": {},
     "output_type": "execute_result"
    }
   ],
   "source": [
    "gender_managers.dept_no.fillna('no').str.startswith('d').astype(int)"
   ]
  },
  {
   "cell_type": "code",
   "execution_count": 138,
   "id": "7a5d75b3",
   "metadata": {},
   "outputs": [],
   "source": [
    "gender_managers['manager'] = gender_managers.dept_no.fillna('no').str.startswith('d').astype(int)"
   ]
  },
  {
   "cell_type": "code",
   "execution_count": 139,
   "id": "7fa80e43",
   "metadata": {},
   "outputs": [
    {
     "data": {
      "text/plain": [
       "M    179973\n",
       "F    120051\n",
       "Name: gender, dtype: int64"
      ]
     },
     "execution_count": 139,
     "metadata": {},
     "output_type": "execute_result"
    }
   ],
   "source": [
    "gender_managers.gender.value_counts()"
   ]
  },
  {
   "cell_type": "code",
   "execution_count": 140,
   "id": "8e94a28d",
   "metadata": {},
   "outputs": [],
   "source": [
    "observed = pd.crosstab(gender_managers.gender,\n",
    "                       gender_managers.manager)"
   ]
  },
  {
   "cell_type": "code",
   "execution_count": 141,
   "id": "aa3a93b0",
   "metadata": {},
   "outputs": [],
   "source": [
    "chi2, p, _, expected = stats.chi2_contingency(observed)"
   ]
  },
  {
   "cell_type": "code",
   "execution_count": 142,
   "id": "e952feeb",
   "metadata": {},
   "outputs": [
    {
     "data": {
      "text/plain": [
       "0.22745818732810363"
      ]
     },
     "execution_count": 142,
     "metadata": {},
     "output_type": "execute_result"
    }
   ],
   "source": [
    "p"
   ]
  },
  {
   "cell_type": "code",
   "execution_count": 143,
   "id": "7912acce",
   "metadata": {},
   "outputs": [
    {
     "data": {
      "text/plain": [
       "False"
      ]
     },
     "execution_count": 143,
     "metadata": {},
     "output_type": "execute_result"
    }
   ],
   "source": [
    "p < α"
   ]
  },
  {
   "cell_type": "markdown",
   "id": "99ca91ac",
   "metadata": {},
   "source": [
    "#We cannot reject the null hypothesis that there is no\n",
    "#relationship between being a man or a woman and being a manager"
   ]
  }
 ],
 "metadata": {
  "kernelspec": {
   "display_name": "Python 3 (ipykernel)",
   "language": "python",
   "name": "python3"
  },
  "language_info": {
   "codemirror_mode": {
    "name": "ipython",
    "version": 3
   },
   "file_extension": ".py",
   "mimetype": "text/x-python",
   "name": "python",
   "nbconvert_exporter": "python",
   "pygments_lexer": "ipython3",
   "version": "3.9.13"
  }
 },
 "nbformat": 4,
 "nbformat_minor": 5
}
