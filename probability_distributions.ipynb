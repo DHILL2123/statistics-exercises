{
 "cells": [
  {
   "cell_type": "code",
   "execution_count": 2,
   "id": "13f889e1",
   "metadata": {},
   "outputs": [],
   "source": [
    "import pandas as pd\n",
    "import numpy as np\n",
    "import scipy.stats as stats\n",
    "import matplotlib.pyplot as plt\n",
    "import seaborn as sns\n",
    "from math import sqrt"
   ]
  },
  {
   "cell_type": "markdown",
   "id": "5d56dcb5",
   "metadata": {},
   "source": [
    "A bank found that the average number of cars waiting during the noon hour at a drive-up window follows a Poisson distribution with a mean of 2 cars. Make a chart of this distribution and answer these questions concerning the probability of cars waiting at the drive-up window.\n",
    "\n",
    "What is the probability that no cars drive up in the noon hour?\n",
    "What is the probability that 3 or more cars come through the drive through?\n",
    "How likely is it that the drive through gets at least 1 car?"
   ]
  },
  {
   "cell_type": "markdown",
   "id": "672f0001",
   "metadata": {},
   "source": [
    "Poisson distribution\n",
    "rate ( 𝜆\n",
    "λ\n",
    " )\n",
    "stats.poisson( 𝜆\n",
    "λ\n",
    " )\n",
    "X = number of events per unit time"
   ]
  },
  {
   "cell_type": "code",
   "execution_count": 3,
   "id": "e21922bd",
   "metadata": {},
   "outputs": [],
   "source": [
    "λ = 2 #two cars on average during the noon hour\n",
    "cars_waiting = stats.poisson(λ)"
   ]
  },
  {
   "cell_type": "code",
   "execution_count": 181,
   "id": "52c5f085",
   "metadata": {},
   "outputs": [
    {
     "data": {
      "text/plain": [
       "0.1353352832366127"
      ]
     },
     "execution_count": 181,
     "metadata": {},
     "output_type": "execute_result"
    }
   ],
   "source": [
    "cars_waiting.pmf(0)"
   ]
  },
  {
   "cell_type": "code",
   "execution_count": 182,
   "id": "db83ae3d",
   "metadata": {},
   "outputs": [
    {
     "data": {
      "text/plain": [
       "<BarContainer object of 15 artists>"
      ]
     },
     "execution_count": 182,
     "metadata": {},
     "output_type": "execute_result"
    },
    {
     "data": {
      "image/png": "[encoded data removed]",
      "text/plain": [
       "<Figure size 640x480 with 1 Axes>"
      ]
     },
     "metadata": {},
     "output_type": "display_data"
    }
   ],
   "source": [
    "x = np.arange(0,15)\n",
    "y = [cars_waiting.pmf(i) for i in x]\n",
    "plt.xlabel('Noon hour cars')\n",
    "plt.ylabel('Cars waiting at noon hour')\n",
    "plt.title('Bank Drive Up Wait')\n",
    "plt.bar(x,y)"
   ]
  },
  {
   "cell_type": "markdown",
   "id": "1ea8b4a9",
   "metadata": {},
   "source": [
    "What is the probability that no cars drive up in the noon hour?"
   ]
  },
  {
   "cell_type": "code",
   "execution_count": 186,
   "id": "cd660636",
   "metadata": {},
   "outputs": [
    {
     "data": {
      "text/plain": [
       "0.1353352832366127"
      ]
     },
     "execution_count": 186,
     "metadata": {},
     "output_type": "execute_result"
    }
   ],
   "source": [
    "cars_waiting.cdf(0)"
   ]
  },
  {
   "cell_type": "markdown",
   "id": "cedaa920",
   "metadata": {},
   "source": [
    "What is the probability that 3 or more cars come through the drive through?"
   ]
  },
  {
   "cell_type": "code",
   "execution_count": 188,
   "id": "888ef0a8",
   "metadata": {},
   "outputs": [
    {
     "data": {
      "text/plain": [
       "0.14287653950145296"
      ]
     },
     "execution_count": 188,
     "metadata": {},
     "output_type": "execute_result"
    }
   ],
   "source": [
    "cars_waiting.sf(3)"
   ]
  },
  {
   "cell_type": "markdown",
   "id": "12608c57",
   "metadata": {},
   "source": [
    "How likely is it that the drive through gets at least 1 car?"
   ]
  },
  {
   "cell_type": "code",
   "execution_count": 189,
   "id": "36a70db8",
   "metadata": {},
   "outputs": [
    {
     "data": {
      "text/plain": [
       "0.8646647167633873"
      ]
     },
     "execution_count": 189,
     "metadata": {},
     "output_type": "execute_result"
    }
   ],
   "source": [
    "cars_waiting.sf(0)"
   ]
  },
  {
   "cell_type": "code",
   "execution_count": null,
   "id": "17f883df",
   "metadata": {},
   "outputs": [],
   "source": []
  },
  {
   "cell_type": "markdown",
   "id": "6f644d0c",
   "metadata": {},
   "source": [
    "Grades of State University graduates are normally distributed with a mean of 3.0 and a standard deviation of .3. Calculate the following:\n",
    "\n",
    "What grade point average is required to be in the top 5% of the graduating class?\n",
    "What GPA constitutes the bottom 15% of the class?\n",
    "An eccentric alumnus left scholarship money for students in the third decile from the bottom of their class. Determine the range of the third decile. Would a student with a 2.8 grade point average qualify for this scholarship?\n",
    "If I have a GPA of 3.5, what percentile am I in?"
   ]
  },
  {
   "cell_type": "code",
   "execution_count": 42,
   "id": "8f32fb26",
   "metadata": {},
   "outputs": [],
   "source": [
    "μ = 3.0\n",
    "σ = .3\n",
    "graduate_grades = stats.norm(μ, σ)"
   ]
  },
  {
   "cell_type": "markdown",
   "id": "d7ce60b9",
   "metadata": {},
   "source": [
    "What grade point average is required to be in the top 5% of the graduating class?"
   ]
  },
  {
   "cell_type": "code",
   "execution_count": 43,
   "id": "df85b541",
   "metadata": {},
   "outputs": [
    {
     "data": {
      "text/plain": [
       "3.4934560880854417"
      ]
     },
     "execution_count": 43,
     "metadata": {},
     "output_type": "execute_result"
    }
   ],
   "source": [
    "graduate_grades.isf(.05)"
   ]
  },
  {
   "cell_type": "markdown",
   "id": "6fb2a325",
   "metadata": {},
   "source": [
    "What GPA constitutes the bottom 15% of the class?"
   ]
  },
  {
   "cell_type": "code",
   "execution_count": 190,
   "id": "f73dfd3a",
   "metadata": {},
   "outputs": [
    {
     "data": {
      "text/plain": [
       "2.689069983151863"
      ]
     },
     "execution_count": 190,
     "metadata": {},
     "output_type": "execute_result"
    }
   ],
   "source": [
    "graduate_grades.ppf(.15)"
   ]
  },
  {
   "cell_type": "markdown",
   "id": "f3e2ad22",
   "metadata": {},
   "source": [
    "An eccentric alumnus left scholarship money for students in the third decile from the bottom of their class. Determine the range of the third decile. Would a student with a 2.8 grade point average qualify for this scholarship?"
   ]
  },
  {
   "cell_type": "code",
   "execution_count": 192,
   "id": "a2410392",
   "metadata": {},
   "outputs": [
    {
     "data": {
      "text/plain": [
       "array([2.74751363, 2.84267985])"
      ]
     },
     "execution_count": 192,
     "metadata": {},
     "output_type": "execute_result"
    }
   ],
   "source": [
    "graduate_grades.ppf((.2, .3))"
   ]
  },
  {
   "cell_type": "markdown",
   "id": "457c0efc",
   "metadata": {},
   "source": [
    "If I have a GPA of 3.5, what percentile am I in?"
   ]
  },
  {
   "cell_type": "code",
   "execution_count": 62,
   "id": "20a22b15",
   "metadata": {},
   "outputs": [
    {
     "data": {
      "text/plain": [
       "0.0477903522728147"
      ]
     },
     "execution_count": 62,
     "metadata": {},
     "output_type": "execute_result"
    }
   ],
   "source": [
    "graduate_grades.sf(3.5)"
   ]
  },
  {
   "cell_type": "code",
   "execution_count": 193,
   "id": "58e4fd8c",
   "metadata": {},
   "outputs": [
    {
     "data": {
      "text/plain": [
       "0.9522096477271853"
      ]
     },
     "execution_count": 193,
     "metadata": {},
     "output_type": "execute_result"
    }
   ],
   "source": [
    "graduate_grades.cdf(3.5)"
   ]
  },
  {
   "cell_type": "markdown",
   "id": "a686cf8a",
   "metadata": {},
   "source": [
    "A marketing website has an average click-through rate of 2%. One day they observe 4326 visitors and 97 click-throughs. How likely is it that this many people or more click through?"
   ]
  },
  {
   "cell_type": "code",
   "execution_count": null,
   "id": "a146162d",
   "metadata": {},
   "outputs": [],
   "source": [
    "\n"
   ]
  },
  {
   "cell_type": "code",
   "execution_count": 89,
   "id": "3946bef3",
   "metadata": {},
   "outputs": [],
   "source": [
    "#go down a number when using sf. 96 instead of 97 here. \n",
    "n = 4326\n",
    "p =.02\n",
    "observation = stats.binom(n,p)\n"
   ]
  },
  {
   "cell_type": "code",
   "execution_count": 194,
   "id": "ff42adeb",
   "metadata": {},
   "outputs": [
    {
     "data": {
      "text/plain": [
       "0.13975823631416448"
      ]
     },
     "execution_count": 194,
     "metadata": {},
     "output_type": "execute_result"
    }
   ],
   "source": [
    "observation.sf(96)"
   ]
  },
  {
   "cell_type": "markdown",
   "id": "c335b228",
   "metadata": {},
   "source": [
    "You are working on some statistics homework consisting of 100 questions where all of the answers are a probability rounded to the hundreths place. Looking to save time, you put down random probabilities as the answer to each question.\n",
    "\n",
    " What is the probability that at least one of your first 60 answers is correct?"
   ]
  },
  {
   "cell_type": "code",
   "execution_count": 200,
   "id": "4d50b4af",
   "metadata": {},
   "outputs": [],
   "source": [
    "n1 = 60\n",
    "p1 =.01\n",
    "answers = stats.binom(n1,p1)"
   ]
  },
  {
   "cell_type": "code",
   "execution_count": 201,
   "id": "0d9e5621",
   "metadata": {},
   "outputs": [
    {
     "data": {
      "text/plain": [
       "0.45284335760923855"
      ]
     },
     "execution_count": 201,
     "metadata": {},
     "output_type": "execute_result"
    }
   ],
   "source": [
    "answers.sf(0)"
   ]
  },
  {
   "cell_type": "markdown",
   "id": "7619d3ec",
   "metadata": {},
   "source": [
    "###The codeup staff tends to get upset when the student break area is not cleaned up. Suppose that there's a 3% chance that any one student cleans the break area when they visit it, and, on any given day, about 90% of the 3 active cohorts of 22 students visit the break area. How likely is it that the break area gets cleaned up each day? How likely is it that it goes two days without getting cleaned up? All week?"
   ]
  },
  {
   "cell_type": "code",
   "execution_count": null,
   "id": "1b5448ca",
   "metadata": {},
   "outputs": [],
   "source": [
    ".03\n",
    ".90\n",
    "66 students\n",
    "n=66\n",
    "p = .03\n"
   ]
  },
  {
   "cell_type": "code",
   "execution_count": 202,
   "id": "49c7183b",
   "metadata": {},
   "outputs": [],
   "source": [
    "# what is probability of getting 5 heads?\n",
    "# probability of getting exactly 5 head flips\n",
    "n = 59\n",
    "p = 0.03\n",
    "cleanedroom = stats.binom(59, 0.03)"
   ]
  },
  {
   "cell_type": "code",
   "execution_count": 207,
   "id": "85a5a045",
   "metadata": {},
   "outputs": [
    {
     "data": {
      "text/plain": [
       "0.8342199288437352"
      ]
     },
     "execution_count": 207,
     "metadata": {},
     "output_type": "execute_result"
    }
   ],
   "source": [
    "unfair_coin_trials.sf(0)"
   ]
  },
  {
   "cell_type": "code",
   "execution_count": 211,
   "id": "b6c97a90",
   "metadata": {},
   "outputs": [
    {
     "data": {
      "text/plain": [
       "0.027483031992576134"
      ]
     },
     "execution_count": 211,
     "metadata": {},
     "output_type": "execute_result"
    }
   ],
   "source": [
    "n = 59\n",
    "p = 0.03\n",
    "cleanedroom = stats.binom(59 * 2, 0.03)\n",
    "cleanedroom.pmf(0)"
   ]
  },
  {
   "cell_type": "code",
   "execution_count": 231,
   "id": "170962a0",
   "metadata": {},
   "outputs": [
    {
     "data": {
      "text/plain": [
       "0.1228196933987875"
      ]
     },
     "execution_count": 231,
     "metadata": {},
     "output_type": "execute_result"
    }
   ],
   "source": [
    "stu = 20\n",
    "\n",
    "survey = stats.binom(dailycust, cust)\n",
    "survey.sf(70)"
   ]
  },
  {
   "cell_type": "markdown",
   "id": "4843df4a",
   "metadata": {},
   "source": [
    "You want to get lunch at La Panaderia, but notice that the line is usually very long at lunchtime. After several weeks of careful observation, you notice that the average number of people in line when your lunch break starts is normally distributed with a mean of 15 and standard deviation of 3. If it takes 2 minutes for each person to order, and 10 minutes from ordering to getting your food, what is the likelihood that you have at least 15 minutes left to eat your food before you have to go back to class? Assume you have one hour for lunch, and ignore travel time to and from La Panaderia."
   ]
  },
  {
   "cell_type": "code",
   "execution_count": 216,
   "id": "d80b0e68",
   "metadata": {},
   "outputs": [],
   "source": [
    "#break down the hour and people into minutes\n",
    "μ = 15 * 2\n",
    "σ = 3 * 2\n",
    "\n",
    "time_to_eat = stats.norm(μ, σ)"
   ]
  },
  {
   "cell_type": "code",
   "execution_count": 219,
   "id": "22e02e84",
   "metadata": {},
   "outputs": [
    {
     "data": {
      "text/plain": [
       "0.6914624612740131"
      ]
     },
     "execution_count": 219,
     "metadata": {},
     "output_type": "execute_result"
    }
   ],
   "source": [
    "time_to_eat.cdf(33)"
   ]
  },
  {
   "cell_type": "code",
   "execution_count": 246,
   "id": "0a200888",
   "metadata": {},
   "outputs": [
    {
     "data": {
      "text/plain": [
       "0.7475074624530771"
      ]
     },
     "execution_count": 246,
     "metadata": {},
     "output_type": "execute_result"
    }
   ],
   "source": [
    "#Ordertime 5min there 10min total walk 60 min lunch\n",
    "ordermean = 40\n",
    "orderstdv = 15\n",
    "timeclock = stats.norm(ordermean, orderstdv)\n",
    "timeclock.cdf(50)"
   ]
  },
  {
   "cell_type": "code",
   "execution_count": null,
   "id": "7ef3eeca",
   "metadata": {},
   "outputs": [],
   "source": []
  },
  {
   "cell_type": "markdown",
   "id": "6d72c7a8",
   "metadata": {},
   "source": [
    "Connect to the employees database and find the average salary of current employees, along with the standard deviation. For the following questions, calculate the answer based on modeling the employees salaries with a normal distribution defined by the calculated mean and standard deviation then compare this answer to the actual values present in the salaries dataset."
   ]
  },
  {
   "cell_type": "code",
   "execution_count": 160,
   "id": "bd0e51ab",
   "metadata": {},
   "outputs": [],
   "source": [
    "from env import db,get_db_url,mysqlcon,host,user\n",
    "get_db_url('employees')\n",
    "sqlconnect = pd.read_sql_query(\"select round(std(salary)), round(avg(salary)) from salaries where to_date > now();\", mysqlcon)"
   ]
  },
  {
   "cell_type": "code",
   "execution_count": 161,
   "id": "103a094b",
   "metadata": {},
   "outputs": [],
   "source": [
    "df1 = pd.DataFrame(sqlconnect)"
   ]
  },
  {
   "cell_type": "code",
   "execution_count": 162,
   "id": "e708708b",
   "metadata": {},
   "outputs": [
    {
     "data": {
      "text/html": [
       "<div>\n",
       "<style scoped>\n",
       "    .dataframe tbody tr th:only-of-type {\n",
       "        vertical-align: middle;\n",
       "    }\n",
       "\n",
       "    .dataframe tbody tr th {\n",
       "        vertical-align: top;\n",
       "    }\n",
       "\n",
       "    .dataframe thead th {\n",
       "        text-align: right;\n",
       "    }\n",
       "</style>\n",
       "<table border=\"1\" class=\"dataframe\">\n",
       "  <thead>\n",
       "    <tr style=\"text-align: right;\">\n",
       "      <th></th>\n",
       "      <th>round(std(salary))</th>\n",
       "      <th>round(avg(salary))</th>\n",
       "    </tr>\n",
       "  </thead>\n",
       "  <tbody>\n",
       "    <tr>\n",
       "      <th>0</th>\n",
       "      <td>17310.0</td>\n",
       "      <td>72012.0</td>\n",
       "    </tr>\n",
       "  </tbody>\n",
       "</table>\n",
       "</div>"
      ],
      "text/plain": [
       "   round(std(salary))  round(avg(salary))\n",
       "0             17310.0             72012.0"
      ]
     },
     "execution_count": 162,
     "metadata": {},
     "output_type": "execute_result"
    }
   ],
   "source": [
    "df1"
   ]
  },
  {
   "cell_type": "code",
   "execution_count": 163,
   "id": "1a57e44c",
   "metadata": {},
   "outputs": [],
   "source": [
    "μ = 72012\n",
    "σ = 17310\n",
    "emp_salaries = stats.norm(μ,σ)"
   ]
  },
  {
   "cell_type": "code",
   "execution_count": null,
   "id": "f194135c",
   "metadata": {},
   "outputs": [],
   "source": []
  },
  {
   "cell_type": "markdown",
   "id": "bd287b8f",
   "metadata": {},
   "source": [
    "What percent of employees earn less than 60,000?"
   ]
  },
  {
   "cell_type": "code",
   "execution_count": 164,
   "id": "0a4930c8",
   "metadata": {},
   "outputs": [
    {
     "data": {
      "text/plain": [
       "0.2438617554963023"
      ]
     },
     "execution_count": 164,
     "metadata": {},
     "output_type": "execute_result"
    }
   ],
   "source": [
    "emp_salaries.cdf(60000)"
   ]
  },
  {
   "cell_type": "markdown",
   "id": "122bcf21",
   "metadata": {},
   "source": [
    "What percent of employees earn more than 95,000?"
   ]
  },
  {
   "cell_type": "code",
   "execution_count": 165,
   "id": "ddc751f4",
   "metadata": {},
   "outputs": [
    {
     "data": {
      "text/plain": [
       "0.09208599994106093"
      ]
     },
     "execution_count": 165,
     "metadata": {},
     "output_type": "execute_result"
    }
   ],
   "source": [
    "emp_salaries.sf(95000)"
   ]
  },
  {
   "cell_type": "markdown",
   "id": "27c9e9dc",
   "metadata": {},
   "source": [
    "What percent of employees earn between 65,000 and 80,000?"
   ]
  },
  {
   "cell_type": "code",
   "execution_count": 221,
   "id": "eaf3755d",
   "metadata": {},
   "outputs": [
    {
     "data": {
      "text/plain": [
       "0.335060363819384"
      ]
     },
     "execution_count": 221,
     "metadata": {},
     "output_type": "execute_result"
    }
   ],
   "source": [
    "emp_salaries.cdf(80000) - emp_salaries.cdf(65000)"
   ]
  },
  {
   "cell_type": "markdown",
   "id": "676be068",
   "metadata": {},
   "source": [
    "What do the top 5% of employees make?\n"
   ]
  },
  {
   "cell_type": "code",
   "execution_count": 222,
   "id": "a243091c",
   "metadata": {},
   "outputs": [
    {
     "data": {
      "text/plain": [
       "100484.41628253"
      ]
     },
     "execution_count": 222,
     "metadata": {},
     "output_type": "execute_result"
    }
   ],
   "source": [
    "emp_salaries.isf(.05)"
   ]
  },
  {
   "cell_type": "code",
   "execution_count": null,
   "id": "8335108f",
   "metadata": {},
   "outputs": [],
   "source": []
  }
 ],
 "metadata": {
  "kernelspec": {
   "display_name": "Python 3 (ipykernel)",
   "language": "python",
   "name": "python3"
  },
  "language_info": {
   "codemirror_mode": {
    "name": "ipython",
    "version": 3
   },
   "file_extension": ".py",
   "mimetype": "text/x-python",
   "name": "python",
   "nbconvert_exporter": "python",
   "pygments_lexer": "ipython3",
   "version": "3.9.13"
  }
 },
 "nbformat": 4,
 "nbformat_minor": 5
}
